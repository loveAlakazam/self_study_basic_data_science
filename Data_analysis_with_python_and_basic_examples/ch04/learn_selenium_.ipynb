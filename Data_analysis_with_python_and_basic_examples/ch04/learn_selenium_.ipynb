{
 "cells": [
  {
   "cell_type": "markdown",
   "metadata": {},
   "source": [
    "# 주제: 셀프주유소는 정말로 저렴할까?"
   ]
  },
  {
   "cell_type": "markdown",
   "metadata": {},
   "source": [
    "# Selenium\n",
    "\n",
    "버튼을 눌러도 웹브라우저상의 주소가 바뀌지 않는다.\n",
    "\n",
    "접근주소가 없으면 BeautifulSoup에서는 처리할 수 없다.\n",
    "\n",
    "Selenium은 접근주소가 없어도 처리할 수있도록 되어있다.\n",
    "\n",
    "셀프주유소가 정말 저렴할지 확인한다.<br><br>\n",
    "\n",
    "# 1. Selenium사용하기"
   ]
  },
  {
   "cell_type": "code",
   "execution_count": 1,
   "metadata": {},
   "outputs": [
    {
     "name": "stdout",
     "output_type": "stream",
     "text": [
      "Requirement already satisfied: selenium in c:\\users\\user\\anaconda3\\lib\\site-packages (3.141.0)\n",
      "Requirement already satisfied: urllib3 in c:\\users\\user\\anaconda3\\lib\\site-packages (from selenium) (1.24.2)\n"
     ]
    }
   ],
   "source": [
    "!pip install selenium"
   ]
  },
  {
   "cell_type": "markdown",
   "metadata": {},
   "source": [
    "구글 크롬을 대상으로하고 있어서 크롬 웹드라이버를 다운받아야한다.\n",
    "\n",
    "자신의 운영체제에 맞춰서 다운로드를 한다. 본인은 Windows10이다.\n",
    "\n",
    "다운로드한 Chrome Driver 버젼은 ChromeDriver 76 이다.(chromedriver_win32.zip)\n",
    "\n",
    "현재 자신이 사용하고 있는 크롬브라우저의 버젼에 맞춰서 다운로드하는게 좋다.(본인은 76버젼이다.)\n",
    "\n",
    "현재 소스코드와 동일한 위치(디렉토리)에 저장하고 압축을 해제한다.\n",
    "\n",
    "본인은 현재 이 노트(ipynb)파일과 같은 위치에 driver 폴더(디렉토리)를 새로생성했고\n",
    "\n",
    "driver 폴더에 chromedriver.exe 파일을 저장했다."
   ]
  },
  {
   "cell_type": "markdown",
   "metadata": {},
   "source": [
    "## Selenium 테스트 - 네이버 홈페이지 - 동적인 웹에서 처리해보기\n",
    "\n",
    "selenium에 의해 열려진 크롬화면은 'Chrome이 자동화된 테스트 소프트웨어에 의해 제어되고 있습니다'라는 문구가 나온다.\n",
    "\n",
    "이때 이용자(사람)이 수동적으로 조작을하면 혼선이 생길 수있으므로\n",
    "\n",
    "동일한 창(selenium에 의해서가 아닌 사용자가 직접 인터넷을 켬)을 실행시켜서\n",
    "\n",
    "개발자 도구를 이용하여 추출한 데이터의 위치가 어디인지를 확인한다."
   ]
  },
  {
   "cell_type": "code",
   "execution_count": 3,
   "metadata": {},
   "outputs": [],
   "source": [
    "from selenium import webdriver\n",
    "driver= webdriver.Chrome('./driver/chromedriver.exe')\n",
    "driver.get('http://naver.com')"
   ]
  },
  {
   "cell_type": "code",
   "execution_count": 5,
   "metadata": {},
   "outputs": [
    {
     "data": {
      "text/plain": [
       "True"
      ]
     },
     "execution_count": 5,
     "metadata": {},
     "output_type": "execute_result"
    }
   ],
   "source": [
    "# selenium에 의해 열린 크롬화면을 캡처\n",
    "driver.save_screenshot('./images/001.jpg')"
   ]
  },
  {
   "cell_type": "markdown",
   "metadata": {},
   "source": [
    "## 네이버 로그인해보기 실습\n",
    "\n",
    "## NAVER 로그인 버튼 누르기\n",
    "\n",
    "개발자 도구에서 'NAVER 로그인'버튼에 해당하는 HTML코드 부분을 선택후\n",
    "\n",
    "오른쪽 마우스를 눌러서 Copy > Copy Xpath "
   ]
  },
  {
   "cell_type": "code",
   "execution_count": 6,
   "metadata": {},
   "outputs": [],
   "source": [
    "## \"Naver 로그인\" 버튼을 눌러야 로그인 창이 뜬다.\n",
    "xpath='''//*[@id=\"account\"]/div/a/i'''\n",
    "driver.find_element_by_xpath(xpath).click()\n",
    "\n",
    "## 실행결과 클릭이 이루어졌고 로그인 화면으로 이동했다."
   ]
  },
  {
   "cell_type": "code",
   "execution_count": 7,
   "metadata": {},
   "outputs": [],
   "source": [
    "# <아이디 비밀번호 입력>\n",
    "input_id= driver.find_element_by_id('id') #id='id'인 태그를 찾는다.\n",
    "\n",
    "# 어떤 글자가 입력되어있을 때 clear() 명령으로 id입력위치한 기존 입력내용을 지운다.\n",
    "input_id.clear() \n",
    "\n",
    "# 아이디를 입력한다.\n",
    "input_id.send_keys('당신의 네이버 아이디')\n",
    "\n",
    "# id='pw'인 태그를 찾는다.\n",
    "input_pw= driver.find_element_by_id('pw')\n",
    "\n",
    "# 어떤글자가 입력되어있다면 지워놓는다.\n",
    "input_pw.clear()\n",
    "\n",
    "# 비밀번호를 입력한다.\n",
    "input_pw.send_keys('당신의 네이버 비밀번호')\n",
    "\n",
    "# 로그인 버튼을 누른다.\n",
    "xpath='''//*[@id=\"frmNIDLogin\"]/fieldset/input'''\n",
    "driver.find_element_by_xpath(xpath).click()"
   ]
  },
  {
   "cell_type": "code",
   "execution_count": 8,
   "metadata": {},
   "outputs": [
    {
     "data": {
      "text/plain": [
       "True"
      ]
     },
     "execution_count": 8,
     "metadata": {},
     "output_type": "execute_result"
    }
   ],
   "source": [
    "# 예전과 달리 요즘은 자동입력에 대한 보안이 강하다...\n",
    "driver.save_screenshot('./images/secure.jpg')"
   ]
  },
  {
   "cell_type": "markdown",
   "metadata": {},
   "source": [
    "계속끝없이 자동입력 방지 문자만 뜬다...ㅠ\n",
    "    \n",
    "로그인은 실패했지만 그래도 클릭해서 화면 넘어가는 단계까지만해도 반만 성공한걸로 생각한다.\n",
    "\n",
    "이제야 셀레니움을 쓸 수있을거같아서 못했던 셀레니움 프로젝트를 마무리 해야될거같다!"
   ]
  },
  {
   "cell_type": "code",
   "execution_count": 10,
   "metadata": {},
   "outputs": [],
   "source": [
    "# 비밀번호 재입력\n",
    "input_pw= driver.find_element_by_id('pw') #id=pw인 태그 찾기\n",
    "input_pw.clear()#기존 입력내용 지우기\n",
    "input_pw.send_keys('비밀번호입력') #비번입력\n",
    "\n",
    "#자동입력 방지 문자\n",
    "input_secure_code= driver.find_element_by_id('chptcha')#i id=chptcha 인 태그 찾기\n",
    "input_secure_code.clear()#기존입력내용 지우기\n",
    "input_secure_code.send_keys('보안키 입력') #보안키 입력\n",
    "\n",
    "#로그인 버튼 누르기\n",
    "xpath='''//*[@id=\"frmNIDLogin\"]/fieldset/input'''\n",
    "driver.find_element_by_xpath(xpath).click()\n"
   ]
  },
  {
   "cell_type": "markdown",
   "metadata": {},
   "source": [
    "<br><br>\n",
    "\n",
    "#  (예제) 서울시 구별 주유소 가격 정보 얻기"
   ]
  },
  {
   "cell_type": "code",
   "execution_count": 41,
   "metadata": {},
   "outputs": [],
   "source": [
    "from selenium import webdriver\n",
    "driver=webdriver.Chrome('./driver/chromedriver.exe') #웹드라이버 실행\n",
    "driver.get('http://www.opinet.co.kr/searRgSelect.do') # opinet 페이지 불러오기\n",
    "# 그러나 url에 있는 원하는 페이지를 복사해봤지만\n",
    "# 실제로는 메인페이지로 다시 돌아왔다."
   ]
  },
  {
   "cell_type": "code",
   "execution_count": 44,
   "metadata": {},
   "outputs": [],
   "source": [
    "# 1. 주유소/충전소 찾기 버튼클릭\n",
    "## 주유소/ 충전소 찾기 버튼에 해당하는 버튼의 xpath를 복사\n",
    "xpath='''//*[@id=\"gnb\"]/ul/li[1]/a'''\n",
    "driver.find_element_by_xpath(xpath).click() #클릭\n"
   ]
  },
  {
   "cell_type": "code",
   "execution_count": null,
   "metadata": {},
   "outputs": [],
   "source": [
    "# 2. 지역별 버튼 클릭\n",
    "# 지역별 태그 찾기=> xpath복사\n",
    "xpath='''//*[@id=\"gnb_0_0\"]/a'''\n",
    "click_local= driver.find_element_by_xpath(xpath).click() #클릭"
   ]
  },
  {
   "cell_type": "code",
   "execution_count": 45,
   "metadata": {},
   "outputs": [
    {
     "name": "stderr",
     "output_type": "stream",
     "text": [
      "C:\\Users\\USER\\Anaconda3\\lib\\site-packages\\selenium\\webdriver\\remote\\webdriver.py:1031: UserWarning: name used for saved screenshot does not match file type. It should end with a `.png` extension\n",
      "  \"type. It should end with a `.png` extension\", UserWarning)\n"
     ]
    },
    {
     "data": {
      "text/plain": [
       "True"
      ]
     },
     "execution_count": 45,
     "metadata": {},
     "output_type": "execute_result"
    }
   ],
   "source": [
    "# 클릭하면 목표하는 화면과 일치한다. (성공화면 스크린샷)\n",
    "driver.save_screenshot('./images/success_opinet_navigation.jpg')"
   ]
  },
  {
   "cell_type": "markdown",
   "metadata": {},
   "source": [
    "## (1) 서울에 있는 모든 구 에 해당하는 지역정보를 추출한다.\n",
    "\n",
    "왼쪽 지역에서 (구) 에 해당하는 부분의 개발자도구를 이용하여 태그를 찾는다.\n",
    "\n",
    "찾았다면 xpath를 복사하여 붙여넣는다.\n",
    "\n",
    "그리고 그 안에는 option 태그에 구 에 해당하는 지역이름이 전부 있다."
   ]
  },
  {
   "cell_type": "code",
   "execution_count": 46,
   "metadata": {},
   "outputs": [
    {
     "name": "stdout",
     "output_type": "stream",
     "text": [
      "gu_list 출력\n",
      " [<selenium.webdriver.remote.webelement.WebElement (session=\"54ea92266e42291d1e11e1dde0bf430d\", element=\"22e3b331-f3fa-4e3a-970d-af29134546c9\")>, <selenium.webdriver.remote.webelement.WebElement (session=\"54ea92266e42291d1e11e1dde0bf430d\", element=\"58da3764-871d-4f23-8e39-96eacb1f3e68\")>, <selenium.webdriver.remote.webelement.WebElement (session=\"54ea92266e42291d1e11e1dde0bf430d\", element=\"9236bf34-a392-4861-bb55-1ebd23f39959\")>, <selenium.webdriver.remote.webelement.WebElement (session=\"54ea92266e42291d1e11e1dde0bf430d\", element=\"12457a40-7b8f-4898-a442-b55e5cf4b8f5\")>, <selenium.webdriver.remote.webelement.WebElement (session=\"54ea92266e42291d1e11e1dde0bf430d\", element=\"5442ceff-fec6-4090-a22a-a9d79ab4d7e6\")>, <selenium.webdriver.remote.webelement.WebElement (session=\"54ea92266e42291d1e11e1dde0bf430d\", element=\"1c7560bf-bdab-4eaa-8fdb-0909f57f7535\")>, <selenium.webdriver.remote.webelement.WebElement (session=\"54ea92266e42291d1e11e1dde0bf430d\", element=\"18c9099e-7052-4fb3-9145-73338d0fb40c\")>, <selenium.webdriver.remote.webelement.WebElement (session=\"54ea92266e42291d1e11e1dde0bf430d\", element=\"2bcfd749-1d0f-4822-ab8a-1da79b38a2a3\")>, <selenium.webdriver.remote.webelement.WebElement (session=\"54ea92266e42291d1e11e1dde0bf430d\", element=\"fc03b54e-7ee4-4891-a960-b003970cf602\")>, <selenium.webdriver.remote.webelement.WebElement (session=\"54ea92266e42291d1e11e1dde0bf430d\", element=\"ed4451a4-96e0-4480-ba45-8a67edebf332\")>, <selenium.webdriver.remote.webelement.WebElement (session=\"54ea92266e42291d1e11e1dde0bf430d\", element=\"d2cc8d22-3dec-4698-8016-715b949bf2c5\")>, <selenium.webdriver.remote.webelement.WebElement (session=\"54ea92266e42291d1e11e1dde0bf430d\", element=\"c3396ec1-95cc-440e-ba74-e9b6e13c1c71\")>, <selenium.webdriver.remote.webelement.WebElement (session=\"54ea92266e42291d1e11e1dde0bf430d\", element=\"ffd7989f-7642-4e1a-b3a0-9557150783cc\")>, <selenium.webdriver.remote.webelement.WebElement (session=\"54ea92266e42291d1e11e1dde0bf430d\", element=\"0da55d99-f1f0-4384-918b-339461709e63\")>, <selenium.webdriver.remote.webelement.WebElement (session=\"54ea92266e42291d1e11e1dde0bf430d\", element=\"3404d514-a256-40e5-94bd-3e53eadb3636\")>, <selenium.webdriver.remote.webelement.WebElement (session=\"54ea92266e42291d1e11e1dde0bf430d\", element=\"022f5e77-478b-44aa-a09a-8058a0986754\")>, <selenium.webdriver.remote.webelement.WebElement (session=\"54ea92266e42291d1e11e1dde0bf430d\", element=\"74c2157d-e190-4ccc-8ba3-6bbf6ef8bab2\")>, <selenium.webdriver.remote.webelement.WebElement (session=\"54ea92266e42291d1e11e1dde0bf430d\", element=\"7e92bc34-5a26-49e2-8207-65ec20236b76\")>, <selenium.webdriver.remote.webelement.WebElement (session=\"54ea92266e42291d1e11e1dde0bf430d\", element=\"676206df-abb1-4c2c-9291-a374b5b6f10b\")>, <selenium.webdriver.remote.webelement.WebElement (session=\"54ea92266e42291d1e11e1dde0bf430d\", element=\"08d9fd65-2414-4d99-96a3-9571aef0b0d2\")>, <selenium.webdriver.remote.webelement.WebElement (session=\"54ea92266e42291d1e11e1dde0bf430d\", element=\"ad558db6-8c85-4fa1-ab92-854f7670faea\")>, <selenium.webdriver.remote.webelement.WebElement (session=\"54ea92266e42291d1e11e1dde0bf430d\", element=\"bc25e26a-56c8-4234-973c-bb9a1c406e49\")>, <selenium.webdriver.remote.webelement.WebElement (session=\"54ea92266e42291d1e11e1dde0bf430d\", element=\"8297806a-ec82-4033-8185-1ccea8076eb9\")>, <selenium.webdriver.remote.webelement.WebElement (session=\"54ea92266e42291d1e11e1dde0bf430d\", element=\"31a3638f-7255-4bae-91ed-2e34f2dd30ac\")>, <selenium.webdriver.remote.webelement.WebElement (session=\"54ea92266e42291d1e11e1dde0bf430d\", element=\"b21e2b0c-77ab-402e-ad56-ff0a3c4b7072\")>, <selenium.webdriver.remote.webelement.WebElement (session=\"54ea92266e42291d1e11e1dde0bf430d\", element=\"20e982de-5994-4fbc-ab2f-f5487a369ffa\")>]\n"
     ]
    }
   ],
   "source": [
    "gu_list_raw= driver.find_element_by_xpath('''//*[@id=\"SIGUNGU_NM0\"]''')\n",
    "gu_list= gu_list_raw.find_elements_by_tag_name('option')\n",
    "print('gu_list 출력\\n', gu_list)"
   ]
  },
  {
   "cell_type": "code",
   "execution_count": 47,
   "metadata": {},
   "outputs": [
    {
     "data": {
      "text/plain": [
       "['강남구',\n",
       " '강동구',\n",
       " '강북구',\n",
       " '강서구',\n",
       " '관악구',\n",
       " '광진구',\n",
       " '구로구',\n",
       " '금천구',\n",
       " '노원구',\n",
       " '도봉구',\n",
       " '동대문구',\n",
       " '동작구',\n",
       " '마포구',\n",
       " '서대문구',\n",
       " '서초구',\n",
       " '성동구',\n",
       " '성북구',\n",
       " '송파구',\n",
       " '양천구',\n",
       " '영등포구',\n",
       " '용산구',\n",
       " '은평구',\n",
       " '종로구',\n",
       " '중구',\n",
       " '중랑구']"
      ]
     },
     "execution_count": 47,
     "metadata": {},
     "output_type": "execute_result"
    }
   ],
   "source": [
    "gu_names= [option.get_attribute('value') for option in gu_list ]\n",
    "gu_names.remove('')\n",
    "gu_names"
   ]
  },
  {
   "cell_type": "markdown",
   "metadata": {},
   "source": [
    "<br><br>\n",
    "\n",
    "## (2) 서울시 구별 execl 파일 저장하기"
   ]
  },
  {
   "cell_type": "code",
   "execution_count": 48,
   "metadata": {},
   "outputs": [],
   "source": [
    "# 맨위의 강남구를 시험삼아서 입력해보기\n",
    "element= driver.find_element_by_id('SIGUNGU_NM0')\n",
    "element.send_keys(gu_names[0]) # (구)옵션에서 강남구를 선택\n",
    "\n",
    "# 조회버튼을 안눌러도 자동으로 바뀐다..!"
   ]
  },
  {
   "cell_type": "code",
   "execution_count": 49,
   "metadata": {},
   "outputs": [
    {
     "name": "stderr",
     "output_type": "stream",
     "text": [
      "C:\\Users\\USER\\Anaconda3\\lib\\site-packages\\selenium\\webdriver\\remote\\webdriver.py:1031: UserWarning: name used for saved screenshot does not match file type. It should end with a `.png` extension\n",
      "  \"type. It should end with a `.png` extension\", UserWarning)\n"
     ]
    },
    {
     "data": {
      "text/plain": [
       "True"
      ]
     },
     "execution_count": 49,
     "metadata": {},
     "output_type": "execute_result"
    }
   ],
   "source": [
    "# 강남구 선택한거 스크린샷\n",
    "driver.save_screenshot('./images/auto_input_gangnamgu.jpg')"
   ]
  },
  {
   "cell_type": "code",
   "execution_count": 50,
   "metadata": {},
   "outputs": [],
   "source": [
    "# 엑셀저장 버튼 누르기\n",
    "xpath= '''//*[@id=\"glopopd_excel\"]'''\n",
    "element_get_excel= driver.find_element_by_xpath(xpath).click()\n",
    "# 기본 다운로드 위치는 '다운로드(Download)' 디렉토리에 있다.\n",
    "# 이건 시범삼아 해본 것이므로 다운받은 파일은 삭제할것."
   ]
  },
  {
   "cell_type": "code",
   "execution_count": 51,
   "metadata": {},
   "outputs": [
    {
     "data": {
      "application/vnd.jupyter.widget-view+json": {
       "model_id": "cb3a51343e744a638065c4fb9e3ca291",
       "version_major": 2,
       "version_minor": 0
      },
      "text/plain": [
       "HBox(children=(IntProgress(value=0, max=25), HTML(value='')))"
      ]
     },
     "metadata": {},
     "output_type": "display_data"
    },
    {
     "name": "stdout",
     "output_type": "stream",
     "text": [
      "\n"
     ]
    }
   ],
   "source": [
    "import time\n",
    "from tqdm import tqdm_notebook # 이 커널셀의 진행률을 시각적으로 보여줌\n",
    "\n",
    "# 구이름별로 실행해서 각 구마다의 excel파일을 저장한다.\n",
    "for gu in tqdm_notebook(gu_names):\n",
    "    element = driver.find_element_by_id('SIGUNGU_NM0') # id가 SIGUNGU_NM0 인 태그를 찾는다.(구 옵션을 찾는다.)\n",
    "    element.send_keys(gu) # 구 옵션에 gu 에 해당하는 지역값을 넣는다.\n",
    "    time.sleep(2) #2초 쉬어준다. (지도가 바뀌는 것을 고려) \n",
    "    \n",
    "    # excel파일을 클릭\n",
    "    xpath= '''//*[@id=\"glopopd_excel\"]''' # excel 다운로드 버튼에 해당하는 xpath를 찾는다.\n",
    "    element_get_excel= driver.find_element_by_xpath(xpath).click() # xpath를 실행...(excel다운로드 버튼을 클릭)\n",
    "    time.sleep(1) #1초 쉬어준다 (다운로드 걸리는 시간 고려)"
   ]
  },
  {
   "cell_type": "markdown",
   "metadata": {},
   "source": [
    "excel 파일이 다운로드됐다면 현재 jupyter notebook 파일(ipynb)와 동일한 디렉토리에 다운받은 excel파일을 저장.<br><br>\n",
    "\n",
    "<br><br>\n",
    "## (3) 구별 주유 가격에 대한 데이터 정리"
   ]
  },
  {
   "cell_type": "markdown",
   "metadata": {},
   "source": [
    "stations_files 변수에 각 엑셀 파일의 경로와 이름을 리스트로 저장한다."
   ]
  },
  {
   "cell_type": "code",
   "execution_count": 53,
   "metadata": {},
   "outputs": [
    {
     "data": {
      "text/plain": [
       "['./excels_seoul\\\\지역_위치별(주유소) (1).xls',\n",
       " './excels_seoul\\\\지역_위치별(주유소) (10).xls',\n",
       " './excels_seoul\\\\지역_위치별(주유소) (11).xls',\n",
       " './excels_seoul\\\\지역_위치별(주유소) (12).xls',\n",
       " './excels_seoul\\\\지역_위치별(주유소) (13).xls',\n",
       " './excels_seoul\\\\지역_위치별(주유소) (14).xls',\n",
       " './excels_seoul\\\\지역_위치별(주유소) (15).xls',\n",
       " './excels_seoul\\\\지역_위치별(주유소) (16).xls',\n",
       " './excels_seoul\\\\지역_위치별(주유소) (17).xls',\n",
       " './excels_seoul\\\\지역_위치별(주유소) (18).xls',\n",
       " './excels_seoul\\\\지역_위치별(주유소) (19).xls',\n",
       " './excels_seoul\\\\지역_위치별(주유소) (2).xls',\n",
       " './excels_seoul\\\\지역_위치별(주유소) (20).xls',\n",
       " './excels_seoul\\\\지역_위치별(주유소) (21).xls',\n",
       " './excels_seoul\\\\지역_위치별(주유소) (22).xls',\n",
       " './excels_seoul\\\\지역_위치별(주유소) (23).xls',\n",
       " './excels_seoul\\\\지역_위치별(주유소) (24).xls',\n",
       " './excels_seoul\\\\지역_위치별(주유소) (3).xls',\n",
       " './excels_seoul\\\\지역_위치별(주유소) (4).xls',\n",
       " './excels_seoul\\\\지역_위치별(주유소) (5).xls',\n",
       " './excels_seoul\\\\지역_위치별(주유소) (6).xls',\n",
       " './excels_seoul\\\\지역_위치별(주유소) (7).xls',\n",
       " './excels_seoul\\\\지역_위치별(주유소) (8).xls',\n",
       " './excels_seoul\\\\지역_위치별(주유소) (9).xls',\n",
       " './excels_seoul\\\\지역_위치별(주유소).xls']"
      ]
     },
     "execution_count": 53,
     "metadata": {},
     "output_type": "execute_result"
    }
   ],
   "source": [
    "import pandas as pd\n",
    "from glob import glob\n",
    "\n",
    "stations_files=glob('./excels_seoul/지역*.xls') #앞글자가 '지역'이 들어있고 *.xls 형식의 파일이면 업로드\n",
    "stations_files"
   ]
  },
  {
   "cell_type": "code",
   "execution_count": 54,
   "metadata": {},
   "outputs": [],
   "source": [
    "tmp_raw=[]\n",
    "\n",
    "for file_name in stations_files:\n",
    "    # excel파일을 읽는다.\n",
    "    tmp= pd.read_excel(file_name, header=2)\n",
    "    tmp_raw.append(tmp)\n",
    "\n",
    "# 25개의 엑셀파일을 하나로 합친다.\n",
    "station_raw= pd.concat(tmp_raw)"
   ]
  },
  {
   "cell_type": "code",
   "execution_count": 55,
   "metadata": {},
   "outputs": [
    {
     "data": {
      "text/html": [
       "<div>\n",
       "<style scoped>\n",
       "    .dataframe tbody tr th:only-of-type {\n",
       "        vertical-align: middle;\n",
       "    }\n",
       "\n",
       "    .dataframe tbody tr th {\n",
       "        vertical-align: top;\n",
       "    }\n",
       "\n",
       "    .dataframe thead th {\n",
       "        text-align: right;\n",
       "    }\n",
       "</style>\n",
       "<table border=\"1\" class=\"dataframe\">\n",
       "  <thead>\n",
       "    <tr style=\"text-align: right;\">\n",
       "      <th></th>\n",
       "      <th>지역</th>\n",
       "      <th>상호</th>\n",
       "      <th>주소</th>\n",
       "      <th>상표</th>\n",
       "      <th>전화번호</th>\n",
       "      <th>셀프여부</th>\n",
       "      <th>고급휘발유</th>\n",
       "      <th>휘발유</th>\n",
       "      <th>경유</th>\n",
       "      <th>실내등유</th>\n",
       "    </tr>\n",
       "  </thead>\n",
       "  <tbody>\n",
       "    <tr>\n",
       "      <th>0</th>\n",
       "      <td>서울특별시</td>\n",
       "      <td>구천면주유소</td>\n",
       "      <td>서울 강동구 구천면로 357 (암사동)</td>\n",
       "      <td>현대오일뱅크</td>\n",
       "      <td>02-441-0536</td>\n",
       "      <td>N</td>\n",
       "      <td>-</td>\n",
       "      <td>1546</td>\n",
       "      <td>1397</td>\n",
       "      <td>-</td>\n",
       "    </tr>\n",
       "    <tr>\n",
       "      <th>1</th>\n",
       "      <td>서울특별시</td>\n",
       "      <td>천호현대주유소</td>\n",
       "      <td>서울 강동구 천중로 67 (천호동)</td>\n",
       "      <td>현대오일뱅크</td>\n",
       "      <td>02-484-9323</td>\n",
       "      <td>N</td>\n",
       "      <td>-</td>\n",
       "      <td>1557</td>\n",
       "      <td>1417</td>\n",
       "      <td>1200</td>\n",
       "    </tr>\n",
       "    <tr>\n",
       "      <th>2</th>\n",
       "      <td>서울특별시</td>\n",
       "      <td>지에스칼텍스㈜ 동서울주유소</td>\n",
       "      <td>서울 강동구 천호대로 1456 (상일동)</td>\n",
       "      <td>GS칼텍스</td>\n",
       "      <td>02-426-5372</td>\n",
       "      <td>Y</td>\n",
       "      <td>-</td>\n",
       "      <td>1576</td>\n",
       "      <td>1399</td>\n",
       "      <td>-</td>\n",
       "    </tr>\n",
       "    <tr>\n",
       "      <th>3</th>\n",
       "      <td>서울특별시</td>\n",
       "      <td>지에스칼텍스㈜ 신월주유소</td>\n",
       "      <td>서울 강동구 양재대로 1323 (성내동)</td>\n",
       "      <td>GS칼텍스</td>\n",
       "      <td>02-475-2600</td>\n",
       "      <td>N</td>\n",
       "      <td>1779</td>\n",
       "      <td>1579</td>\n",
       "      <td>1442</td>\n",
       "      <td>1100</td>\n",
       "    </tr>\n",
       "    <tr>\n",
       "      <th>4</th>\n",
       "      <td>서울특별시</td>\n",
       "      <td>(주)퍼스트오일 코알라주유소</td>\n",
       "      <td>서울특별시 강동구  올림픽로 556 (성내동)</td>\n",
       "      <td>S-OIL</td>\n",
       "      <td>02-484-1162</td>\n",
       "      <td>Y</td>\n",
       "      <td>-</td>\n",
       "      <td>1588</td>\n",
       "      <td>1448</td>\n",
       "      <td>-</td>\n",
       "    </tr>\n",
       "  </tbody>\n",
       "</table>\n",
       "</div>"
      ],
      "text/plain": [
       "      지역               상호                         주소      상표         전화번호  \\\n",
       "0  서울특별시           구천면주유소      서울 강동구 구천면로 357 (암사동)  현대오일뱅크  02-441-0536   \n",
       "1  서울특별시          천호현대주유소        서울 강동구 천중로 67 (천호동)  현대오일뱅크  02-484-9323   \n",
       "2  서울특별시   지에스칼텍스㈜ 동서울주유소     서울 강동구 천호대로 1456 (상일동)   GS칼텍스  02-426-5372   \n",
       "3  서울특별시    지에스칼텍스㈜ 신월주유소     서울 강동구 양재대로 1323 (성내동)   GS칼텍스  02-475-2600   \n",
       "4  서울특별시  (주)퍼스트오일 코알라주유소  서울특별시 강동구  올림픽로 556 (성내동)   S-OIL  02-484-1162   \n",
       "\n",
       "  셀프여부 고급휘발유   휘발유    경유  실내등유  \n",
       "0    N     -  1546  1397     -  \n",
       "1    N     -  1557  1417  1200  \n",
       "2    Y     -  1576  1399     -  \n",
       "3    N  1779  1579  1442  1100  \n",
       "4    Y     -  1588  1448     -  "
      ]
     },
     "execution_count": 55,
     "metadata": {},
     "output_type": "execute_result"
    }
   ],
   "source": [
    "station_raw.head()"
   ]
  },
  {
   "cell_type": "code",
   "execution_count": 56,
   "metadata": {},
   "outputs": [
    {
     "name": "stdout",
     "output_type": "stream",
     "text": [
      "<class 'pandas.core.frame.DataFrame'>\n",
      "Int64Index: 505 entries, 0 to 41\n",
      "Data columns (total 10 columns):\n",
      "지역       505 non-null object\n",
      "상호       505 non-null object\n",
      "주소       505 non-null object\n",
      "상표       505 non-null object\n",
      "전화번호     505 non-null object\n",
      "셀프여부     505 non-null object\n",
      "고급휘발유    505 non-null object\n",
      "휘발유      505 non-null object\n",
      "경유       505 non-null object\n",
      "실내등유     505 non-null object\n",
      "dtypes: object(10)\n",
      "memory usage: 43.4+ KB\n"
     ]
    }
   ],
   "source": [
    "station_raw.info()"
   ]
  },
  {
   "cell_type": "code",
   "execution_count": 57,
   "metadata": {},
   "outputs": [
    {
     "data": {
      "text/html": [
       "<div>\n",
       "<style scoped>\n",
       "    .dataframe tbody tr th:only-of-type {\n",
       "        vertical-align: middle;\n",
       "    }\n",
       "\n",
       "    .dataframe tbody tr th {\n",
       "        vertical-align: top;\n",
       "    }\n",
       "\n",
       "    .dataframe thead th {\n",
       "        text-align: right;\n",
       "    }\n",
       "</style>\n",
       "<table border=\"1\" class=\"dataframe\">\n",
       "  <thead>\n",
       "    <tr style=\"text-align: right;\">\n",
       "      <th></th>\n",
       "      <th>Oil_Store</th>\n",
       "      <th>주소</th>\n",
       "      <th>가격</th>\n",
       "      <th>셀프</th>\n",
       "      <th>상표</th>\n",
       "    </tr>\n",
       "  </thead>\n",
       "  <tbody>\n",
       "    <tr>\n",
       "      <th>0</th>\n",
       "      <td>구천면주유소</td>\n",
       "      <td>서울 강동구 구천면로 357 (암사동)</td>\n",
       "      <td>1546</td>\n",
       "      <td>N</td>\n",
       "      <td>현대오일뱅크</td>\n",
       "    </tr>\n",
       "    <tr>\n",
       "      <th>1</th>\n",
       "      <td>천호현대주유소</td>\n",
       "      <td>서울 강동구 천중로 67 (천호동)</td>\n",
       "      <td>1557</td>\n",
       "      <td>N</td>\n",
       "      <td>현대오일뱅크</td>\n",
       "    </tr>\n",
       "    <tr>\n",
       "      <th>2</th>\n",
       "      <td>지에스칼텍스㈜ 동서울주유소</td>\n",
       "      <td>서울 강동구 천호대로 1456 (상일동)</td>\n",
       "      <td>1576</td>\n",
       "      <td>Y</td>\n",
       "      <td>GS칼텍스</td>\n",
       "    </tr>\n",
       "    <tr>\n",
       "      <th>3</th>\n",
       "      <td>지에스칼텍스㈜ 신월주유소</td>\n",
       "      <td>서울 강동구 양재대로 1323 (성내동)</td>\n",
       "      <td>1579</td>\n",
       "      <td>N</td>\n",
       "      <td>GS칼텍스</td>\n",
       "    </tr>\n",
       "    <tr>\n",
       "      <th>4</th>\n",
       "      <td>(주)퍼스트오일 코알라주유소</td>\n",
       "      <td>서울특별시 강동구  올림픽로 556 (성내동)</td>\n",
       "      <td>1588</td>\n",
       "      <td>Y</td>\n",
       "      <td>S-OIL</td>\n",
       "    </tr>\n",
       "  </tbody>\n",
       "</table>\n",
       "</div>"
      ],
      "text/plain": [
       "         Oil_Store                         주소    가격 셀프      상표\n",
       "0           구천면주유소      서울 강동구 구천면로 357 (암사동)  1546  N  현대오일뱅크\n",
       "1          천호현대주유소        서울 강동구 천중로 67 (천호동)  1557  N  현대오일뱅크\n",
       "2   지에스칼텍스㈜ 동서울주유소     서울 강동구 천호대로 1456 (상일동)  1576  Y   GS칼텍스\n",
       "3    지에스칼텍스㈜ 신월주유소     서울 강동구 양재대로 1323 (성내동)  1579  N   GS칼텍스\n",
       "4  (주)퍼스트오일 코알라주유소  서울특별시 강동구  올림픽로 556 (성내동)  1588  Y   S-OIL"
      ]
     },
     "execution_count": 57,
     "metadata": {},
     "output_type": "execute_result"
    }
   ],
   "source": [
    "stations= pd.DataFrame({'Oil_Store': station_raw['상호'],\n",
    "                        '주소':station_raw['주소'],\n",
    "                        '가격':station_raw['휘발유'],\n",
    "                        '셀프':station_raw['셀프여부'],\n",
    "                        '상표':station_raw['상표']})\n",
    "stations.head()"
   ]
  },
  {
   "cell_type": "code",
   "execution_count": 60,
   "metadata": {},
   "outputs": [
    {
     "data": {
      "text/html": [
       "<div>\n",
       "<style scoped>\n",
       "    .dataframe tbody tr th:only-of-type {\n",
       "        vertical-align: middle;\n",
       "    }\n",
       "\n",
       "    .dataframe tbody tr th {\n",
       "        vertical-align: top;\n",
       "    }\n",
       "\n",
       "    .dataframe thead th {\n",
       "        text-align: right;\n",
       "    }\n",
       "</style>\n",
       "<table border=\"1\" class=\"dataframe\">\n",
       "  <thead>\n",
       "    <tr style=\"text-align: right;\">\n",
       "      <th></th>\n",
       "      <th>Oil_Store</th>\n",
       "      <th>주소</th>\n",
       "      <th>가격</th>\n",
       "      <th>셀프</th>\n",
       "      <th>상표</th>\n",
       "      <th>구</th>\n",
       "    </tr>\n",
       "  </thead>\n",
       "  <tbody>\n",
       "    <tr>\n",
       "      <th>0</th>\n",
       "      <td>구천면주유소</td>\n",
       "      <td>서울 강동구 구천면로 357 (암사동)</td>\n",
       "      <td>1546</td>\n",
       "      <td>N</td>\n",
       "      <td>현대오일뱅크</td>\n",
       "      <td>강동구</td>\n",
       "    </tr>\n",
       "    <tr>\n",
       "      <th>1</th>\n",
       "      <td>천호현대주유소</td>\n",
       "      <td>서울 강동구 천중로 67 (천호동)</td>\n",
       "      <td>1557</td>\n",
       "      <td>N</td>\n",
       "      <td>현대오일뱅크</td>\n",
       "      <td>강동구</td>\n",
       "    </tr>\n",
       "    <tr>\n",
       "      <th>2</th>\n",
       "      <td>지에스칼텍스㈜ 동서울주유소</td>\n",
       "      <td>서울 강동구 천호대로 1456 (상일동)</td>\n",
       "      <td>1576</td>\n",
       "      <td>Y</td>\n",
       "      <td>GS칼텍스</td>\n",
       "      <td>강동구</td>\n",
       "    </tr>\n",
       "    <tr>\n",
       "      <th>3</th>\n",
       "      <td>지에스칼텍스㈜ 신월주유소</td>\n",
       "      <td>서울 강동구 양재대로 1323 (성내동)</td>\n",
       "      <td>1579</td>\n",
       "      <td>N</td>\n",
       "      <td>GS칼텍스</td>\n",
       "      <td>강동구</td>\n",
       "    </tr>\n",
       "    <tr>\n",
       "      <th>4</th>\n",
       "      <td>(주)퍼스트오일 코알라주유소</td>\n",
       "      <td>서울특별시 강동구  올림픽로 556 (성내동)</td>\n",
       "      <td>1588</td>\n",
       "      <td>Y</td>\n",
       "      <td>S-OIL</td>\n",
       "      <td>강동구</td>\n",
       "    </tr>\n",
       "  </tbody>\n",
       "</table>\n",
       "</div>"
      ],
      "text/plain": [
       "         Oil_Store                         주소    가격 셀프      상표    구\n",
       "0           구천면주유소      서울 강동구 구천면로 357 (암사동)  1546  N  현대오일뱅크  강동구\n",
       "1          천호현대주유소        서울 강동구 천중로 67 (천호동)  1557  N  현대오일뱅크  강동구\n",
       "2   지에스칼텍스㈜ 동서울주유소     서울 강동구 천호대로 1456 (상일동)  1576  Y   GS칼텍스  강동구\n",
       "3    지에스칼텍스㈜ 신월주유소     서울 강동구 양재대로 1323 (성내동)  1579  N   GS칼텍스  강동구\n",
       "4  (주)퍼스트오일 코알라주유소  서울특별시 강동구  올림픽로 556 (성내동)  1588  Y   S-OIL  강동구"
      ]
     },
     "execution_count": 60,
     "metadata": {},
     "output_type": "execute_result"
    }
   ],
   "source": [
    "stations['구']= [ eachAddress.split()[1] for eachAddress in stations['주소'] ]\n",
    "stations.head()"
   ]
  },
  {
   "cell_type": "code",
   "execution_count": 61,
   "metadata": {},
   "outputs": [
    {
     "data": {
      "text/plain": [
       "array(['강동구', '동대문구', '동작구', '마포구', '서대문구', '서초구', '성동구', '성북구', '송파구',\n",
       "       '양천구', '영등포구', '강북구', '용산구', '은평구', '종로구', '중구', '중랑구', '강서구',\n",
       "       '관악구', '광진구', '구로구', '금천구', '노원구', '도봉구', '강남구'], dtype=object)"
      ]
     },
     "execution_count": 61,
     "metadata": {},
     "output_type": "execute_result"
    }
   ],
   "source": [
    "# 구 컬럼 unique()\n",
    "stations['구'].unique()"
   ]
  },
  {
   "cell_type": "code",
   "execution_count": 65,
   "metadata": {},
   "outputs": [
    {
     "data": {
      "text/plain": [
       "array([1546, 1557, 1576, 1579, 1588, 1593, 1598, 1599, 1619, 1629, 1638,\n",
       "       1648, 1698, 1983, 1485, 1492, 1495, 1505, 1514, 1528, 1537, 1539,\n",
       "       1549, 1568, 1649, 1655, 1688, 1551, 1555, 1559, 1565, 1569, 1575,\n",
       "       1635, 1645, '1595', '1598', '1617', '1628', '1697', '1699', '1829',\n",
       "       '1840', '1848', '1929', '1939', '-', '1534', '1541', '1547',\n",
       "       '1559', '1568', '1582', '1589', '1698', '1999', 1506, 1540, 1545,\n",
       "       1553, 1558, 1563, 1584, 1586, 1590, 1594, 1595, 1642, 1647, 1659,\n",
       "       1669, 1745, 1968, 1978, 1993, 1999, '1499', '1515', '1538', '1558',\n",
       "       '1588', '1594', '1615', '1649', '1695', '1770', '1799', '1898',\n",
       "       '1474', '1475', '1518', '1519', '1532', '1548', '1569', '1579',\n",
       "       '1584', '1599', '1629', '2135', 1513, 1519, 1543, 1567, 1572, 1574,\n",
       "       1577, 1589, 1605, 1678, 1679, 1767, 1799, 1829, '1468', '1487',\n",
       "       '1488', '1497', '1507', '1509', '1510', '1517', '1554', '1587',\n",
       "       '1609', '1639', '1653', '1679', '1857', 1478, 1499, 1542, 1548,\n",
       "       1566, 1637, 1840, 1863, 1940, 1949, 1951, 1953, 1979, 1479, 1489,\n",
       "       1494, 1498, 1508, 1527, 1534, '1638', '1658', '1934', '1959',\n",
       "       '1998', '2018', '2038', '2090', '2148', '1467', '1477', '1514',\n",
       "       '1543', '1572', '1575', '1592', '1618', 1697, 1714, 1998, 2136,\n",
       "       2148, 1626, 1758, 1798, 1948, 2159, 2189, 2250, 2256, 2294, 1497,\n",
       "       1510, 1520, 1523, 1529, 1535, 1538, 1456, 1486, 1487, 1488, 1496,\n",
       "       1509, 1517, 1560, 1627, 1789, 1817, 1547, 1556, 1564, 1608, 1624,\n",
       "       1515, 1675, 1582, 1685, 1768, 2064, 1504, 1571, 1695, 1530, 1533,\n",
       "       1597, 1680, 1709, 1738, 1525, 1554, 1628, 1636, 1992, '1563',\n",
       "       '1567', '1597', '1627', '1635', '1636', '1637', '1647', '1662',\n",
       "       '1665', '1687', '1773', '1798', '1850', '1876', '1877', '1897',\n",
       "       '1912', '1947', '1989', '1994', '1995', '2218'], dtype=object)"
      ]
     },
     "execution_count": 65,
     "metadata": {},
     "output_type": "execute_result"
    }
   ],
   "source": [
    "stations['가격'].unique()"
   ]
  },
  {
   "cell_type": "code",
   "execution_count": 66,
   "metadata": {},
   "outputs": [
    {
     "data": {
      "text/html": [
       "<div>\n",
       "<style scoped>\n",
       "    .dataframe tbody tr th:only-of-type {\n",
       "        vertical-align: middle;\n",
       "    }\n",
       "\n",
       "    .dataframe tbody tr th {\n",
       "        vertical-align: top;\n",
       "    }\n",
       "\n",
       "    .dataframe thead th {\n",
       "        text-align: right;\n",
       "    }\n",
       "</style>\n",
       "<table border=\"1\" class=\"dataframe\">\n",
       "  <thead>\n",
       "    <tr style=\"text-align: right;\">\n",
       "      <th></th>\n",
       "      <th>Oil_Store</th>\n",
       "      <th>주소</th>\n",
       "      <th>가격</th>\n",
       "      <th>셀프</th>\n",
       "      <th>상표</th>\n",
       "      <th>구</th>\n",
       "    </tr>\n",
       "  </thead>\n",
       "  <tbody>\n",
       "    <tr>\n",
       "      <th>11</th>\n",
       "      <td>서강주유소</td>\n",
       "      <td>서울 마포구 독막로 134 (창전동)</td>\n",
       "      <td>-</td>\n",
       "      <td>N</td>\n",
       "      <td>SK에너지</td>\n",
       "      <td>마포구</td>\n",
       "    </tr>\n",
       "    <tr>\n",
       "      <th>12</th>\n",
       "      <td>(주)승지 염리동주유소</td>\n",
       "      <td>서울 마포구 백범로 126 (염리동)</td>\n",
       "      <td>-</td>\n",
       "      <td>N</td>\n",
       "      <td>현대오일뱅크</td>\n",
       "      <td>마포구</td>\n",
       "    </tr>\n",
       "    <tr>\n",
       "      <th>13</th>\n",
       "      <td>광호주유소</td>\n",
       "      <td>서울 서대문구 연희로 266 (홍은동)</td>\n",
       "      <td>-</td>\n",
       "      <td>N</td>\n",
       "      <td>SK에너지</td>\n",
       "      <td>서대문구</td>\n",
       "    </tr>\n",
       "    <tr>\n",
       "      <th>14</th>\n",
       "      <td>연희주유소</td>\n",
       "      <td>서울 서대문구 연희로 129 (연희동 89-7번지)</td>\n",
       "      <td>-</td>\n",
       "      <td>N</td>\n",
       "      <td>SK에너지</td>\n",
       "      <td>서대문구</td>\n",
       "    </tr>\n",
       "    <tr>\n",
       "      <th>16</th>\n",
       "      <td>SK에너지(주) 군자동주유소</td>\n",
       "      <td>서울 성동구 천호대로 446 (용답동)</td>\n",
       "      <td>-</td>\n",
       "      <td>N</td>\n",
       "      <td>SK에너지</td>\n",
       "      <td>성동구</td>\n",
       "    </tr>\n",
       "    <tr>\n",
       "      <th>21</th>\n",
       "      <td>강산주유소</td>\n",
       "      <td>서울 성북구 보문로 27 (보문동7가)</td>\n",
       "      <td>-</td>\n",
       "      <td>N</td>\n",
       "      <td>GS칼텍스</td>\n",
       "      <td>성북구</td>\n",
       "    </tr>\n",
       "    <tr>\n",
       "      <th>22</th>\n",
       "      <td>장위주유소</td>\n",
       "      <td>서울 성북구 화랑로 110 (하월곡동)</td>\n",
       "      <td>-</td>\n",
       "      <td>N</td>\n",
       "      <td>SK에너지</td>\n",
       "      <td>성북구</td>\n",
       "    </tr>\n",
       "    <tr>\n",
       "      <th>23</th>\n",
       "      <td>KR누리(주) 종암주유소</td>\n",
       "      <td>서울 성북구 종암로 145 (종암동)</td>\n",
       "      <td>-</td>\n",
       "      <td>N</td>\n",
       "      <td>SK에너지</td>\n",
       "      <td>성북구</td>\n",
       "    </tr>\n",
       "    <tr>\n",
       "      <th>24</th>\n",
       "      <td>SK네트웍스(주) SKOK주유소</td>\n",
       "      <td>서울특별시 양천구  안양천로 1179 (목동)</td>\n",
       "      <td>-</td>\n",
       "      <td>N</td>\n",
       "      <td>SK에너지</td>\n",
       "      <td>양천구</td>\n",
       "    </tr>\n",
       "    <tr>\n",
       "      <th>25</th>\n",
       "      <td>SK네트웍스 신월남부</td>\n",
       "      <td>서울특별시 양천구  남부순환로 553 (신월동)</td>\n",
       "      <td>-</td>\n",
       "      <td>Y</td>\n",
       "      <td>SK에너지</td>\n",
       "      <td>양천구</td>\n",
       "    </tr>\n",
       "    <tr>\n",
       "      <th>14</th>\n",
       "      <td>강변주유소</td>\n",
       "      <td>서울특별시 용산구  원효로 9 (청암동)</td>\n",
       "      <td>-</td>\n",
       "      <td>N</td>\n",
       "      <td>SK에너지</td>\n",
       "      <td>용산구</td>\n",
       "    </tr>\n",
       "    <tr>\n",
       "      <th>17</th>\n",
       "      <td>삼융주유소</td>\n",
       "      <td>서울 은평구 수색로 299 (수색동)</td>\n",
       "      <td>-</td>\n",
       "      <td>N</td>\n",
       "      <td>SK에너지</td>\n",
       "      <td>은평구</td>\n",
       "    </tr>\n",
       "    <tr>\n",
       "      <th>40</th>\n",
       "      <td>동우주유소</td>\n",
       "      <td>서울특별시 강남구  봉은사로 311 (논현동)</td>\n",
       "      <td>-</td>\n",
       "      <td>N</td>\n",
       "      <td>SK에너지</td>\n",
       "      <td>강남구</td>\n",
       "    </tr>\n",
       "    <tr>\n",
       "      <th>41</th>\n",
       "      <td>삼성주유소</td>\n",
       "      <td>서울 강남구 삼성로 521 (삼성동)</td>\n",
       "      <td>-</td>\n",
       "      <td>N</td>\n",
       "      <td>SK에너지</td>\n",
       "      <td>강남구</td>\n",
       "    </tr>\n",
       "  </tbody>\n",
       "</table>\n",
       "</div>"
      ],
      "text/plain": [
       "            Oil_Store                            주소 가격 셀프      상표     구\n",
       "11              서강주유소          서울 마포구 독막로 134 (창전동)  -  N   SK에너지   마포구\n",
       "12       (주)승지 염리동주유소          서울 마포구 백범로 126 (염리동)  -  N  현대오일뱅크   마포구\n",
       "13              광호주유소         서울 서대문구 연희로 266 (홍은동)  -  N   SK에너지  서대문구\n",
       "14              연희주유소  서울 서대문구 연희로 129 (연희동 89-7번지)  -  N   SK에너지  서대문구\n",
       "16    SK에너지(주) 군자동주유소         서울 성동구 천호대로 446 (용답동)  -  N   SK에너지   성동구\n",
       "21              강산주유소         서울 성북구 보문로 27 (보문동7가)  -  N   GS칼텍스   성북구\n",
       "22              장위주유소         서울 성북구 화랑로 110 (하월곡동)  -  N   SK에너지   성북구\n",
       "23      KR누리(주) 종암주유소          서울 성북구 종암로 145 (종암동)  -  N   SK에너지   성북구\n",
       "24  SK네트웍스(주) SKOK주유소     서울특별시 양천구  안양천로 1179 (목동)  -  N   SK에너지   양천구\n",
       "25        SK네트웍스 신월남부    서울특별시 양천구  남부순환로 553 (신월동)  -  Y   SK에너지   양천구\n",
       "14              강변주유소        서울특별시 용산구  원효로 9 (청암동)  -  N   SK에너지   용산구\n",
       "17              삼융주유소          서울 은평구 수색로 299 (수색동)  -  N   SK에너지   은평구\n",
       "40              동우주유소     서울특별시 강남구  봉은사로 311 (논현동)  -  N   SK에너지   강남구\n",
       "41              삼성주유소          서울 강남구 삼성로 521 (삼성동)  -  N   SK에너지   강남구"
      ]
     },
     "execution_count": 66,
     "metadata": {},
     "output_type": "execute_result"
    }
   ],
   "source": [
    "# 가격의 '-'은 예외처리 한다.\n",
    "# '-' 문자의 의미는 가격이 기록되지 않음을 의미한다.\n",
    "stations[ stations['가격']=='-']"
   ]
  },
  {
   "cell_type": "code",
   "execution_count": 67,
   "metadata": {},
   "outputs": [
    {
     "data": {
      "text/html": [
       "<div>\n",
       "<style scoped>\n",
       "    .dataframe tbody tr th:only-of-type {\n",
       "        vertical-align: middle;\n",
       "    }\n",
       "\n",
       "    .dataframe tbody tr th {\n",
       "        vertical-align: top;\n",
       "    }\n",
       "\n",
       "    .dataframe thead th {\n",
       "        text-align: right;\n",
       "    }\n",
       "</style>\n",
       "<table border=\"1\" class=\"dataframe\">\n",
       "  <thead>\n",
       "    <tr style=\"text-align: right;\">\n",
       "      <th></th>\n",
       "      <th>Oil_Store</th>\n",
       "      <th>주소</th>\n",
       "      <th>가격</th>\n",
       "      <th>셀프</th>\n",
       "      <th>상표</th>\n",
       "      <th>구</th>\n",
       "    </tr>\n",
       "  </thead>\n",
       "  <tbody>\n",
       "    <tr>\n",
       "      <th>0</th>\n",
       "      <td>구천면주유소</td>\n",
       "      <td>서울 강동구 구천면로 357 (암사동)</td>\n",
       "      <td>1546</td>\n",
       "      <td>N</td>\n",
       "      <td>현대오일뱅크</td>\n",
       "      <td>강동구</td>\n",
       "    </tr>\n",
       "    <tr>\n",
       "      <th>1</th>\n",
       "      <td>천호현대주유소</td>\n",
       "      <td>서울 강동구 천중로 67 (천호동)</td>\n",
       "      <td>1557</td>\n",
       "      <td>N</td>\n",
       "      <td>현대오일뱅크</td>\n",
       "      <td>강동구</td>\n",
       "    </tr>\n",
       "    <tr>\n",
       "      <th>2</th>\n",
       "      <td>지에스칼텍스㈜ 동서울주유소</td>\n",
       "      <td>서울 강동구 천호대로 1456 (상일동)</td>\n",
       "      <td>1576</td>\n",
       "      <td>Y</td>\n",
       "      <td>GS칼텍스</td>\n",
       "      <td>강동구</td>\n",
       "    </tr>\n",
       "    <tr>\n",
       "      <th>3</th>\n",
       "      <td>지에스칼텍스㈜ 신월주유소</td>\n",
       "      <td>서울 강동구 양재대로 1323 (성내동)</td>\n",
       "      <td>1579</td>\n",
       "      <td>N</td>\n",
       "      <td>GS칼텍스</td>\n",
       "      <td>강동구</td>\n",
       "    </tr>\n",
       "    <tr>\n",
       "      <th>4</th>\n",
       "      <td>(주)퍼스트오일 코알라주유소</td>\n",
       "      <td>서울특별시 강동구  올림픽로 556 (성내동)</td>\n",
       "      <td>1588</td>\n",
       "      <td>Y</td>\n",
       "      <td>S-OIL</td>\n",
       "      <td>강동구</td>\n",
       "    </tr>\n",
       "  </tbody>\n",
       "</table>\n",
       "</div>"
      ],
      "text/plain": [
       "         Oil_Store                         주소    가격 셀프      상표    구\n",
       "0           구천면주유소      서울 강동구 구천면로 357 (암사동)  1546  N  현대오일뱅크  강동구\n",
       "1          천호현대주유소        서울 강동구 천중로 67 (천호동)  1557  N  현대오일뱅크  강동구\n",
       "2   지에스칼텍스㈜ 동서울주유소     서울 강동구 천호대로 1456 (상일동)  1576  Y   GS칼텍스  강동구\n",
       "3    지에스칼텍스㈜ 신월주유소     서울 강동구 양재대로 1323 (성내동)  1579  N   GS칼텍스  강동구\n",
       "4  (주)퍼스트오일 코알라주유소  서울특별시 강동구  올림픽로 556 (성내동)  1588  Y   S-OIL  강동구"
      ]
     },
     "execution_count": 67,
     "metadata": {},
     "output_type": "execute_result"
    }
   ],
   "source": [
    "# 가격확인이 안된 위의 주유소는 대상에서 제외시킨다.\n",
    "stations= stations[ stations['가격']!='-']\n",
    "stations.head()"
   ]
  },
  {
   "cell_type": "code",
   "execution_count": 74,
   "metadata": {},
   "outputs": [
    {
     "name": "stdout",
     "output_type": "stream",
     "text": [
      "<class 'pandas.core.frame.DataFrame'>\n",
      "Int64Index: 491 entries, 0 to 39\n",
      "Data columns (total 6 columns):\n",
      "Oil_Store    491 non-null object\n",
      "주소           491 non-null object\n",
      "가격           491 non-null object\n",
      "셀프           491 non-null object\n",
      "상표           491 non-null object\n",
      "구            491 non-null object\n",
      "dtypes: object(6)\n",
      "memory usage: 36.9+ KB\n"
     ]
    }
   ],
   "source": [
    "stations.info()"
   ]
  },
  {
   "cell_type": "code",
   "execution_count": 75,
   "metadata": {},
   "outputs": [],
   "source": [
    "# 가격은 object이다....\n",
    "# float타입으로 변경한다.\n",
    "stations['가격']= [ float(value) for value in stations['가격']]"
   ]
  },
  {
   "cell_type": "code",
   "execution_count": 76,
   "metadata": {},
   "outputs": [
    {
     "name": "stdout",
     "output_type": "stream",
     "text": [
      "<class 'pandas.core.frame.DataFrame'>\n",
      "Int64Index: 491 entries, 0 to 39\n",
      "Data columns (total 6 columns):\n",
      "Oil_Store    491 non-null object\n",
      "주소           491 non-null object\n",
      "가격           491 non-null float64\n",
      "셀프           491 non-null object\n",
      "상표           491 non-null object\n",
      "구            491 non-null object\n",
      "dtypes: float64(1), object(5)\n",
      "memory usage: 36.9+ KB\n"
     ]
    }
   ],
   "source": [
    "stations.info()"
   ]
  },
  {
   "cell_type": "code",
   "execution_count": 77,
   "metadata": {},
   "outputs": [
    {
     "data": {
      "text/html": [
       "<div>\n",
       "<style scoped>\n",
       "    .dataframe tbody tr th:only-of-type {\n",
       "        vertical-align: middle;\n",
       "    }\n",
       "\n",
       "    .dataframe tbody tr th {\n",
       "        vertical-align: top;\n",
       "    }\n",
       "\n",
       "    .dataframe thead th {\n",
       "        text-align: right;\n",
       "    }\n",
       "</style>\n",
       "<table border=\"1\" class=\"dataframe\">\n",
       "  <thead>\n",
       "    <tr style=\"text-align: right;\">\n",
       "      <th></th>\n",
       "      <th>Oil_Store</th>\n",
       "      <th>주소</th>\n",
       "      <th>가격</th>\n",
       "      <th>셀프</th>\n",
       "      <th>상표</th>\n",
       "      <th>구</th>\n",
       "    </tr>\n",
       "  </thead>\n",
       "  <tbody>\n",
       "    <tr>\n",
       "      <th>0</th>\n",
       "      <td>구천면주유소</td>\n",
       "      <td>서울 강동구 구천면로 357 (암사동)</td>\n",
       "      <td>1546.0</td>\n",
       "      <td>N</td>\n",
       "      <td>현대오일뱅크</td>\n",
       "      <td>강동구</td>\n",
       "    </tr>\n",
       "    <tr>\n",
       "      <th>1</th>\n",
       "      <td>천호현대주유소</td>\n",
       "      <td>서울 강동구 천중로 67 (천호동)</td>\n",
       "      <td>1557.0</td>\n",
       "      <td>N</td>\n",
       "      <td>현대오일뱅크</td>\n",
       "      <td>강동구</td>\n",
       "    </tr>\n",
       "    <tr>\n",
       "      <th>2</th>\n",
       "      <td>지에스칼텍스㈜ 동서울주유소</td>\n",
       "      <td>서울 강동구 천호대로 1456 (상일동)</td>\n",
       "      <td>1576.0</td>\n",
       "      <td>Y</td>\n",
       "      <td>GS칼텍스</td>\n",
       "      <td>강동구</td>\n",
       "    </tr>\n",
       "    <tr>\n",
       "      <th>3</th>\n",
       "      <td>지에스칼텍스㈜ 신월주유소</td>\n",
       "      <td>서울 강동구 양재대로 1323 (성내동)</td>\n",
       "      <td>1579.0</td>\n",
       "      <td>N</td>\n",
       "      <td>GS칼텍스</td>\n",
       "      <td>강동구</td>\n",
       "    </tr>\n",
       "    <tr>\n",
       "      <th>4</th>\n",
       "      <td>(주)퍼스트오일 코알라주유소</td>\n",
       "      <td>서울특별시 강동구  올림픽로 556 (성내동)</td>\n",
       "      <td>1588.0</td>\n",
       "      <td>Y</td>\n",
       "      <td>S-OIL</td>\n",
       "      <td>강동구</td>\n",
       "    </tr>\n",
       "  </tbody>\n",
       "</table>\n",
       "</div>"
      ],
      "text/plain": [
       "         Oil_Store                         주소      가격 셀프      상표    구\n",
       "0           구천면주유소      서울 강동구 구천면로 357 (암사동)  1546.0  N  현대오일뱅크  강동구\n",
       "1          천호현대주유소        서울 강동구 천중로 67 (천호동)  1557.0  N  현대오일뱅크  강동구\n",
       "2   지에스칼텍스㈜ 동서울주유소     서울 강동구 천호대로 1456 (상일동)  1576.0  Y   GS칼텍스  강동구\n",
       "3    지에스칼텍스㈜ 신월주유소     서울 강동구 양재대로 1323 (성내동)  1579.0  N   GS칼텍스  강동구\n",
       "4  (주)퍼스트오일 코알라주유소  서울특별시 강동구  올림픽로 556 (성내동)  1588.0  Y   S-OIL  강동구"
      ]
     },
     "execution_count": 77,
     "metadata": {},
     "output_type": "execute_result"
    }
   ],
   "source": [
    "stations.reset_index(inplace=True)\n",
    "del stations['index'] #인덱스 삭제\n",
    "stations.head()"
   ]
  },
  {
   "cell_type": "markdown",
   "metadata": {},
   "source": [
    "<br><br>\n",
    "\n",
    "## (4) 셀프 주유소는 정말 저렴한지 boxplot으로 확인하기"
   ]
  },
  {
   "cell_type": "code",
   "execution_count": 81,
   "metadata": {},
   "outputs": [],
   "source": [
    "import matplotlib.pyplot as plt\n",
    "import seaborn as sns\n",
    "%matplotlib inline\n",
    "\n",
    "import platform\n",
    "from matplotlib import font_manager, rc\n",
    "\n",
    "path='./malgun.ttf'\n",
    "if platform.system()=='Darwin':\n",
    "    rc('font', family='AppleGothic')\n",
    "    \n",
    "elif platform.system()=='Windows':\n",
    "    font_name= font_manager.FontProperties(fname=path).get_name()\n",
    "    rc('font', family=font_name)\n",
    "\n",
    "else:\n",
    "    print('[ERROR] Unknown System.')"
   ]
  },
  {
   "cell_type": "markdown",
   "metadata": {},
   "source": [
    "<br>\n",
    "\n",
    "## 셀프컬럼을 기준으로 가격분포 확인하기"
   ]
  },
  {
   "cell_type": "code",
   "execution_count": 83,
   "metadata": {},
   "outputs": [
    {
     "data": {
      "text/plain": [
       "<matplotlib.axes._subplots.AxesSubplot at 0x24cefabd400>"
      ]
     },
     "execution_count": 83,
     "metadata": {},
     "output_type": "execute_result"
    },
    {
     "data": {
      "image/png": "[encoded data removed]",
      "text/plain": [
       "<Figure size 864x576 with 1 Axes>"
      ]
     },
     "metadata": {
      "needs_background": "light"
     },
     "output_type": "display_data"
    }
   ],
   "source": [
    "plt.rcParams.update({'font.size':18})\n",
    "stations.boxplot( column='가격', by='셀프', figsize=(12, 8))"
   ]
  },
  {
   "cell_type": "markdown",
   "metadata": {},
   "source": [
    "<br>\n",
    "\n",
    "## 주유소의 상표별로 셀프 주유소가 얼마나 저렴한지 확인 \n",
    "\n",
    "현대오일뱅크, GS칼텍스, S-Oil, SK에너지 모두 셀프 주유소가 저렴하다.\n",
    "\n",
    "SK에너지는 가격대가 가장 높게 형성되어 있는것을 알 수 있다."
   ]
  },
  {
   "cell_type": "code",
   "execution_count": 85,
   "metadata": {},
   "outputs": [
    {
     "data": {
      "image/png": "[encoded data removed]",
      "text/plain": [
       "<Figure size 864x576 with 1 Axes>"
      ]
     },
     "metadata": {
      "needs_background": "light"
     },
     "output_type": "display_data"
    }
   ],
   "source": [
    "plt.figure(figsize=(12,8))\n",
    "sns.boxplot(x='상표', y='가격', hue='셀프', data=stations, palette='Set3')\n",
    "plt.show()"
   ]
  },
  {
   "cell_type": "markdown",
   "metadata": {},
   "source": [
    "<br>\n",
    "\n",
    "\n",
    "## Swarmplot으로 데이터 분포를 확인하기\n",
    "\n",
    "\n",
    "전반적으로 현대 오일뱅크가 4대 주유브랜드 중에서는 가장 저렴하다.\n",
    "\n",
    "셀프주유소는 대체로 저렴하다.\n"
   ]
  },
  {
   "cell_type": "code",
   "execution_count": 87,
   "metadata": {},
   "outputs": [
    {
     "data": {
      "image/png": "[encoded data removed]",
      "text/plain": [
       "<Figure size 864x576 with 1 Axes>"
      ]
     },
     "metadata": {
      "needs_background": "light"
     },
     "output_type": "display_data"
    }
   ],
   "source": [
    "plt.figure(figsize=(12,8))\n",
    "sns.boxplot(x='상표', y='가격', data=stations, palette='Set3')\n",
    "sns.swarmplot(x='상표', y='가격', data=stations, color='.6')\n",
    "plt.show()"
   ]
  },
  {
   "cell_type": "markdown",
   "metadata": {},
   "source": [
    "## (5) 서울시 구별 주유 가격 확인하기"
   ]
  },
  {
   "cell_type": "code",
   "execution_count": 88,
   "metadata": {},
   "outputs": [],
   "source": [
    "import json\n",
    "import folium\n",
    "import googlemaps\n",
    "import warnings\n",
    "warnings.simplefilter(action='ignore', category=FutureWarning)"
   ]
  },
  {
   "cell_type": "code",
   "execution_count": 89,
   "metadata": {},
   "outputs": [
    {
     "data": {
      "text/html": [
       "<div>\n",
       "<style scoped>\n",
       "    .dataframe tbody tr th:only-of-type {\n",
       "        vertical-align: middle;\n",
       "    }\n",
       "\n",
       "    .dataframe tbody tr th {\n",
       "        vertical-align: top;\n",
       "    }\n",
       "\n",
       "    .dataframe thead th {\n",
       "        text-align: right;\n",
       "    }\n",
       "</style>\n",
       "<table border=\"1\" class=\"dataframe\">\n",
       "  <thead>\n",
       "    <tr style=\"text-align: right;\">\n",
       "      <th></th>\n",
       "      <th>Oil_Store</th>\n",
       "      <th>주소</th>\n",
       "      <th>가격</th>\n",
       "      <th>셀프</th>\n",
       "      <th>상표</th>\n",
       "      <th>구</th>\n",
       "    </tr>\n",
       "  </thead>\n",
       "  <tbody>\n",
       "    <tr>\n",
       "      <th>298</th>\n",
       "      <td>서남주유소</td>\n",
       "      <td>서울 중구 통일로 30</td>\n",
       "      <td>2294.0</td>\n",
       "      <td>N</td>\n",
       "      <td>SK에너지</td>\n",
       "      <td>중구</td>\n",
       "    </tr>\n",
       "    <tr>\n",
       "      <th>297</th>\n",
       "      <td>SC(주) 역전주유소</td>\n",
       "      <td>서울 중구 퇴계로 15</td>\n",
       "      <td>2256.0</td>\n",
       "      <td>N</td>\n",
       "      <td>GS칼텍스</td>\n",
       "      <td>중구</td>\n",
       "    </tr>\n",
       "    <tr>\n",
       "      <th>296</th>\n",
       "      <td>장충주유소</td>\n",
       "      <td>서울 중구 장충단로 202 (장충동1가)</td>\n",
       "      <td>2250.0</td>\n",
       "      <td>N</td>\n",
       "      <td>SK에너지</td>\n",
       "      <td>중구</td>\n",
       "    </tr>\n",
       "    <tr>\n",
       "      <th>490</th>\n",
       "      <td>뉴서울(강남)</td>\n",
       "      <td>서울 강남구 언주로 716 (논현동)</td>\n",
       "      <td>2218.0</td>\n",
       "      <td>N</td>\n",
       "      <td>SK에너지</td>\n",
       "      <td>강남구</td>\n",
       "    </tr>\n",
       "    <tr>\n",
       "      <th>295</th>\n",
       "      <td>필동주유소</td>\n",
       "      <td>서울 중구  퇴계로 196 (필동2가)</td>\n",
       "      <td>2189.0</td>\n",
       "      <td>N</td>\n",
       "      <td>GS칼텍스</td>\n",
       "      <td>중구</td>\n",
       "    </tr>\n",
       "    <tr>\n",
       "      <th>294</th>\n",
       "      <td>지에스칼텍스(주)초동주유소</td>\n",
       "      <td>서울 중구 마른내로 31</td>\n",
       "      <td>2159.0</td>\n",
       "      <td>N</td>\n",
       "      <td>GS칼텍스</td>\n",
       "      <td>중구</td>\n",
       "    </tr>\n",
       "    <tr>\n",
       "      <th>285</th>\n",
       "      <td>(주)대양씨앤씨 사직주유소</td>\n",
       "      <td>서울 종로구 사직로 65 (사직동)</td>\n",
       "      <td>2148.0</td>\n",
       "      <td>N</td>\n",
       "      <td>GS칼텍스</td>\n",
       "      <td>종로구</td>\n",
       "    </tr>\n",
       "    <tr>\n",
       "      <th>292</th>\n",
       "      <td>(주)중앙에너비스 퇴계로지점</td>\n",
       "      <td>서울 중구 퇴계로 228 (필동2가)</td>\n",
       "      <td>2148.0</td>\n",
       "      <td>N</td>\n",
       "      <td>SK에너지</td>\n",
       "      <td>중구</td>\n",
       "    </tr>\n",
       "    <tr>\n",
       "      <th>259</th>\n",
       "      <td>에너비스</td>\n",
       "      <td>서울 용산구 한남대로 82 (한남동)</td>\n",
       "      <td>2148.0</td>\n",
       "      <td>N</td>\n",
       "      <td>SK에너지</td>\n",
       "      <td>용산구</td>\n",
       "    </tr>\n",
       "    <tr>\n",
       "      <th>260</th>\n",
       "      <td>한남지점</td>\n",
       "      <td>서울 용산구 한남대로21길 4 (한남동)</td>\n",
       "      <td>2148.0</td>\n",
       "      <td>N</td>\n",
       "      <td>SK에너지</td>\n",
       "      <td>용산구</td>\n",
       "    </tr>\n",
       "  </tbody>\n",
       "</table>\n",
       "</div>"
      ],
      "text/plain": [
       "           Oil_Store                      주소      가격 셀프     상표    구\n",
       "298            서남주유소            서울 중구 통일로 30  2294.0  N  SK에너지   중구\n",
       "297      SC(주) 역전주유소            서울 중구 퇴계로 15  2256.0  N  GS칼텍스   중구\n",
       "296            장충주유소  서울 중구 장충단로 202 (장충동1가)  2250.0  N  SK에너지   중구\n",
       "490          뉴서울(강남)    서울 강남구 언주로 716 (논현동)  2218.0  N  SK에너지  강남구\n",
       "295            필동주유소   서울 중구  퇴계로 196 (필동2가)  2189.0  N  GS칼텍스   중구\n",
       "294   지에스칼텍스(주)초동주유소           서울 중구 마른내로 31  2159.0  N  GS칼텍스   중구\n",
       "285   (주)대양씨앤씨 사직주유소     서울 종로구 사직로 65 (사직동)  2148.0  N  GS칼텍스  종로구\n",
       "292  (주)중앙에너비스 퇴계로지점    서울 중구 퇴계로 228 (필동2가)  2148.0  N  SK에너지   중구\n",
       "259             에너비스    서울 용산구 한남대로 82 (한남동)  2148.0  N  SK에너지  용산구\n",
       "260             한남지점  서울 용산구 한남대로21길 4 (한남동)  2148.0  N  SK에너지  용산구"
      ]
     },
     "execution_count": 89,
     "metadata": {},
     "output_type": "execute_result"
    }
   ],
   "source": [
    "stations.sort_values(by='가격', ascending=False).head(10)\n",
    "# 가장 비싼 가격(2294)을 갖는 주유소 : 서남주유소"
   ]
  },
  {
   "cell_type": "code",
   "execution_count": 91,
   "metadata": {},
   "outputs": [
    {
     "data": {
      "text/html": [
       "<div>\n",
       "<style scoped>\n",
       "    .dataframe tbody tr th:only-of-type {\n",
       "        vertical-align: middle;\n",
       "    }\n",
       "\n",
       "    .dataframe tbody tr th {\n",
       "        vertical-align: top;\n",
       "    }\n",
       "\n",
       "    .dataframe thead th {\n",
       "        text-align: right;\n",
       "    }\n",
       "</style>\n",
       "<table border=\"1\" class=\"dataframe\">\n",
       "  <thead>\n",
       "    <tr style=\"text-align: right;\">\n",
       "      <th></th>\n",
       "      <th>Oil_Store</th>\n",
       "      <th>주소</th>\n",
       "      <th>가격</th>\n",
       "      <th>셀프</th>\n",
       "      <th>상표</th>\n",
       "      <th>구</th>\n",
       "    </tr>\n",
       "  </thead>\n",
       "  <tbody>\n",
       "    <tr>\n",
       "      <th>315</th>\n",
       "      <td>화곡역주유소</td>\n",
       "      <td>서울특별시 강서구  강서로 154 (화곡동)</td>\n",
       "      <td>1456.0</td>\n",
       "      <td>Y</td>\n",
       "      <td>알뜰주유소</td>\n",
       "      <td>강서구</td>\n",
       "    </tr>\n",
       "    <tr>\n",
       "      <th>316</th>\n",
       "      <td>뉴신정주유소</td>\n",
       "      <td>서울특별시 강서구 곰달래로39길 10 (화곡동)</td>\n",
       "      <td>1456.0</td>\n",
       "      <td>N</td>\n",
       "      <td>알뜰주유소</td>\n",
       "      <td>강서구</td>\n",
       "    </tr>\n",
       "    <tr>\n",
       "      <th>261</th>\n",
       "      <td>이케이에너지(주)번개주유소</td>\n",
       "      <td>서울 은평구 응암로 163</td>\n",
       "      <td>1467.0</td>\n",
       "      <td>Y</td>\n",
       "      <td>자가상표</td>\n",
       "      <td>은평구</td>\n",
       "    </tr>\n",
       "    <tr>\n",
       "      <th>178</th>\n",
       "      <td>양천구주유소</td>\n",
       "      <td>서울 양천구 국회대로 275 (목동)</td>\n",
       "      <td>1468.0</td>\n",
       "      <td>Y</td>\n",
       "      <td>알뜰주유소</td>\n",
       "      <td>양천구</td>\n",
       "    </tr>\n",
       "    <tr>\n",
       "      <th>125</th>\n",
       "      <td>원천주유소</td>\n",
       "      <td>서울 성북구 돌곶이로 142 (장위동)</td>\n",
       "      <td>1474.0</td>\n",
       "      <td>N</td>\n",
       "      <td>알뜰주유소</td>\n",
       "      <td>성북구</td>\n",
       "    </tr>\n",
       "    <tr>\n",
       "      <th>127</th>\n",
       "      <td>(주)삼표에너지 정릉주유소</td>\n",
       "      <td>서울 성북구 보국문로 35 (정릉동)</td>\n",
       "      <td>1475.0</td>\n",
       "      <td>Y</td>\n",
       "      <td>GS칼텍스</td>\n",
       "      <td>성북구</td>\n",
       "    </tr>\n",
       "    <tr>\n",
       "      <th>126</th>\n",
       "      <td>강산제2주유소</td>\n",
       "      <td>서울 성북구 보국문로 52</td>\n",
       "      <td>1475.0</td>\n",
       "      <td>Y</td>\n",
       "      <td>현대오일뱅크</td>\n",
       "      <td>성북구</td>\n",
       "    </tr>\n",
       "    <tr>\n",
       "      <th>262</th>\n",
       "      <td>타이거주유소</td>\n",
       "      <td>서울 은평구 수색로 188 (증산동)</td>\n",
       "      <td>1477.0</td>\n",
       "      <td>Y</td>\n",
       "      <td>SK에너지</td>\n",
       "      <td>은평구</td>\n",
       "    </tr>\n",
       "    <tr>\n",
       "      <th>263</th>\n",
       "      <td>(주)명연에너지 수색훼미리주유소</td>\n",
       "      <td>서울 은평구 수색로 236 (수색동)</td>\n",
       "      <td>1477.0</td>\n",
       "      <td>Y</td>\n",
       "      <td>현대오일뱅크</td>\n",
       "      <td>은평구</td>\n",
       "    </tr>\n",
       "    <tr>\n",
       "      <th>202</th>\n",
       "      <td>도림주유소</td>\n",
       "      <td>서울 영등포구 도림로 343 (도림동)</td>\n",
       "      <td>1478.0</td>\n",
       "      <td>Y</td>\n",
       "      <td>알뜰주유소</td>\n",
       "      <td>영등포구</td>\n",
       "    </tr>\n",
       "  </tbody>\n",
       "</table>\n",
       "</div>"
      ],
      "text/plain": [
       "             Oil_Store                          주소      가격 셀프      상표     구\n",
       "315             화곡역주유소    서울특별시 강서구  강서로 154 (화곡동)  1456.0  Y   알뜰주유소   강서구\n",
       "316             뉴신정주유소  서울특별시 강서구 곰달래로39길 10 (화곡동)  1456.0  N   알뜰주유소   강서구\n",
       "261     이케이에너지(주)번개주유소              서울 은평구 응암로 163  1467.0  Y    자가상표   은평구\n",
       "178             양천구주유소        서울 양천구 국회대로 275 (목동)  1468.0  Y   알뜰주유소   양천구\n",
       "125              원천주유소       서울 성북구 돌곶이로 142 (장위동)  1474.0  N   알뜰주유소   성북구\n",
       "127     (주)삼표에너지 정릉주유소        서울 성북구 보국문로 35 (정릉동)  1475.0  Y   GS칼텍스   성북구\n",
       "126            강산제2주유소              서울 성북구 보국문로 52  1475.0  Y  현대오일뱅크   성북구\n",
       "262             타이거주유소        서울 은평구 수색로 188 (증산동)  1477.0  Y   SK에너지   은평구\n",
       "263  (주)명연에너지 수색훼미리주유소        서울 은평구 수색로 236 (수색동)  1477.0  Y  현대오일뱅크   은평구\n",
       "202              도림주유소       서울 영등포구 도림로 343 (도림동)  1478.0  Y   알뜰주유소  영등포구"
      ]
     },
     "execution_count": 91,
     "metadata": {},
     "output_type": "execute_result"
    }
   ],
   "source": [
    "stations.sort_values(by='가격', ascending=True).head(10)\n",
    "# 가장 싼 가격(1456)을 갖는 주유소: 화곡역주유소"
   ]
  },
  {
   "cell_type": "code",
   "execution_count": 92,
   "metadata": {},
   "outputs": [
    {
     "data": {
      "text/html": [
       "<div>\n",
       "<style scoped>\n",
       "    .dataframe tbody tr th:only-of-type {\n",
       "        vertical-align: middle;\n",
       "    }\n",
       "\n",
       "    .dataframe tbody tr th {\n",
       "        vertical-align: top;\n",
       "    }\n",
       "\n",
       "    .dataframe thead th {\n",
       "        text-align: right;\n",
       "    }\n",
       "</style>\n",
       "<table border=\"1\" class=\"dataframe\">\n",
       "  <thead>\n",
       "    <tr style=\"text-align: right;\">\n",
       "      <th></th>\n",
       "      <th>가격</th>\n",
       "    </tr>\n",
       "    <tr>\n",
       "      <th>구</th>\n",
       "      <th></th>\n",
       "    </tr>\n",
       "  </thead>\n",
       "  <tbody>\n",
       "    <tr>\n",
       "      <th>강남구</th>\n",
       "      <td>1767.800000</td>\n",
       "    </tr>\n",
       "    <tr>\n",
       "      <th>강동구</th>\n",
       "      <td>1629.250000</td>\n",
       "    </tr>\n",
       "    <tr>\n",
       "      <th>강북구</th>\n",
       "      <td>1507.076923</td>\n",
       "    </tr>\n",
       "    <tr>\n",
       "      <th>강서구</th>\n",
       "      <td>1546.235294</td>\n",
       "    </tr>\n",
       "    <tr>\n",
       "      <th>관악구</th>\n",
       "      <td>1581.000000</td>\n",
       "    </tr>\n",
       "  </tbody>\n",
       "</table>\n",
       "</div>"
      ],
      "text/plain": [
       "              가격\n",
       "구               \n",
       "강남구  1767.800000\n",
       "강동구  1629.250000\n",
       "강북구  1507.076923\n",
       "강서구  1546.235294\n",
       "관악구  1581.000000"
      ]
     },
     "execution_count": 92,
     "metadata": {},
     "output_type": "execute_result"
    }
   ],
   "source": [
    "import numpy as np\n",
    "gu_data= pd.pivot_table( stations, index=['구'], values=['가격'], aggfunc=np.mean)\n",
    "gu_data.head()"
   ]
  },
  {
   "cell_type": "code",
   "execution_count": 94,
   "metadata": {},
   "outputs": [
    {
     "data": {
      "text/html": [
       "<div style=\"width:100%;\"><div style=\"position:relative;width:100%;height:0;padding-bottom:60%;\"><iframe src=\"data:text/html;charset=utf-8;base64,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\" style=\"position:absolute;width:100%;height:100%;left:0;top:0;border:none !important;\" allowfullscreen webkitallowfullscreen mozallowfullscreen></iframe></div></div>"
      ],
      "text/plain": [
       "<folium.folium.Map at 0x24cf0c68f98>"
      ]
     },
     "execution_count": 94,
     "metadata": {},
     "output_type": "execute_result"
    }
   ],
   "source": [
    "geo_path='./skorea_municipalities_geo_simple.json'\n",
    "geo_data= json.load(open(geo_path, encoding='utf-8'))\n",
    "\n",
    "map= folium.Map(location=[37.5502, 126.982], zoom_start=10.5, tiles='Stamen Toner')\n",
    "\n",
    "map.choropleth(geo_data = geo_data,\n",
    "              data= gu_data,\n",
    "              columns=[gu_data.index, '가격'],\n",
    "              fill_color='YlGnBu',\n",
    "              key_on='feature.id')\n",
    "map"
   ]
  },
  {
   "cell_type": "markdown",
   "metadata": {},
   "source": [
    "<br><br>\n",
    "\n",
    "## (6) 서울시 주유가격 상하위 10개 주유소 지도에 표시하기"
   ]
  },
  {
   "cell_type": "code",
   "execution_count": 96,
   "metadata": {},
   "outputs": [
    {
     "data": {
      "text/html": [
       "<div>\n",
       "<style scoped>\n",
       "    .dataframe tbody tr th:only-of-type {\n",
       "        vertical-align: middle;\n",
       "    }\n",
       "\n",
       "    .dataframe tbody tr th {\n",
       "        vertical-align: top;\n",
       "    }\n",
       "\n",
       "    .dataframe thead th {\n",
       "        text-align: right;\n",
       "    }\n",
       "</style>\n",
       "<table border=\"1\" class=\"dataframe\">\n",
       "  <thead>\n",
       "    <tr style=\"text-align: right;\">\n",
       "      <th></th>\n",
       "      <th>Oil_Store</th>\n",
       "      <th>주소</th>\n",
       "      <th>가격</th>\n",
       "      <th>셀프</th>\n",
       "      <th>상표</th>\n",
       "      <th>구</th>\n",
       "    </tr>\n",
       "  </thead>\n",
       "  <tbody>\n",
       "    <tr>\n",
       "      <th>298</th>\n",
       "      <td>서남주유소</td>\n",
       "      <td>서울 중구 통일로 30</td>\n",
       "      <td>2294.0</td>\n",
       "      <td>N</td>\n",
       "      <td>SK에너지</td>\n",
       "      <td>중구</td>\n",
       "    </tr>\n",
       "    <tr>\n",
       "      <th>297</th>\n",
       "      <td>SC(주) 역전주유소</td>\n",
       "      <td>서울 중구 퇴계로 15</td>\n",
       "      <td>2256.0</td>\n",
       "      <td>N</td>\n",
       "      <td>GS칼텍스</td>\n",
       "      <td>중구</td>\n",
       "    </tr>\n",
       "    <tr>\n",
       "      <th>296</th>\n",
       "      <td>장충주유소</td>\n",
       "      <td>서울 중구 장충단로 202 (장충동1가)</td>\n",
       "      <td>2250.0</td>\n",
       "      <td>N</td>\n",
       "      <td>SK에너지</td>\n",
       "      <td>중구</td>\n",
       "    </tr>\n",
       "    <tr>\n",
       "      <th>490</th>\n",
       "      <td>뉴서울(강남)</td>\n",
       "      <td>서울 강남구 언주로 716 (논현동)</td>\n",
       "      <td>2218.0</td>\n",
       "      <td>N</td>\n",
       "      <td>SK에너지</td>\n",
       "      <td>강남구</td>\n",
       "    </tr>\n",
       "    <tr>\n",
       "      <th>295</th>\n",
       "      <td>필동주유소</td>\n",
       "      <td>서울 중구  퇴계로 196 (필동2가)</td>\n",
       "      <td>2189.0</td>\n",
       "      <td>N</td>\n",
       "      <td>GS칼텍스</td>\n",
       "      <td>중구</td>\n",
       "    </tr>\n",
       "    <tr>\n",
       "      <th>294</th>\n",
       "      <td>지에스칼텍스(주)초동주유소</td>\n",
       "      <td>서울 중구 마른내로 31</td>\n",
       "      <td>2159.0</td>\n",
       "      <td>N</td>\n",
       "      <td>GS칼텍스</td>\n",
       "      <td>중구</td>\n",
       "    </tr>\n",
       "    <tr>\n",
       "      <th>285</th>\n",
       "      <td>(주)대양씨앤씨 사직주유소</td>\n",
       "      <td>서울 종로구 사직로 65 (사직동)</td>\n",
       "      <td>2148.0</td>\n",
       "      <td>N</td>\n",
       "      <td>GS칼텍스</td>\n",
       "      <td>종로구</td>\n",
       "    </tr>\n",
       "    <tr>\n",
       "      <th>292</th>\n",
       "      <td>(주)중앙에너비스 퇴계로지점</td>\n",
       "      <td>서울 중구 퇴계로 228 (필동2가)</td>\n",
       "      <td>2148.0</td>\n",
       "      <td>N</td>\n",
       "      <td>SK에너지</td>\n",
       "      <td>중구</td>\n",
       "    </tr>\n",
       "    <tr>\n",
       "      <th>259</th>\n",
       "      <td>에너비스</td>\n",
       "      <td>서울 용산구 한남대로 82 (한남동)</td>\n",
       "      <td>2148.0</td>\n",
       "      <td>N</td>\n",
       "      <td>SK에너지</td>\n",
       "      <td>용산구</td>\n",
       "    </tr>\n",
       "    <tr>\n",
       "      <th>260</th>\n",
       "      <td>한남지점</td>\n",
       "      <td>서울 용산구 한남대로21길 4 (한남동)</td>\n",
       "      <td>2148.0</td>\n",
       "      <td>N</td>\n",
       "      <td>SK에너지</td>\n",
       "      <td>용산구</td>\n",
       "    </tr>\n",
       "  </tbody>\n",
       "</table>\n",
       "</div>"
      ],
      "text/plain": [
       "           Oil_Store                      주소      가격 셀프     상표    구\n",
       "298            서남주유소            서울 중구 통일로 30  2294.0  N  SK에너지   중구\n",
       "297      SC(주) 역전주유소            서울 중구 퇴계로 15  2256.0  N  GS칼텍스   중구\n",
       "296            장충주유소  서울 중구 장충단로 202 (장충동1가)  2250.0  N  SK에너지   중구\n",
       "490          뉴서울(강남)    서울 강남구 언주로 716 (논현동)  2218.0  N  SK에너지  강남구\n",
       "295            필동주유소   서울 중구  퇴계로 196 (필동2가)  2189.0  N  GS칼텍스   중구\n",
       "294   지에스칼텍스(주)초동주유소           서울 중구 마른내로 31  2159.0  N  GS칼텍스   중구\n",
       "285   (주)대양씨앤씨 사직주유소     서울 종로구 사직로 65 (사직동)  2148.0  N  GS칼텍스  종로구\n",
       "292  (주)중앙에너비스 퇴계로지점    서울 중구 퇴계로 228 (필동2가)  2148.0  N  SK에너지   중구\n",
       "259             에너비스    서울 용산구 한남대로 82 (한남동)  2148.0  N  SK에너지  용산구\n",
       "260             한남지점  서울 용산구 한남대로21길 4 (한남동)  2148.0  N  SK에너지  용산구"
      ]
     },
     "execution_count": 96,
     "metadata": {},
     "output_type": "execute_result"
    }
   ],
   "source": [
    "oil_price_top10= stations.sort_values(by='가격', ascending=False).head(10)\n",
    "oil_price_top10"
   ]
  },
  {
   "cell_type": "code",
   "execution_count": 97,
   "metadata": {},
   "outputs": [
    {
     "data": {
      "text/html": [
       "<div>\n",
       "<style scoped>\n",
       "    .dataframe tbody tr th:only-of-type {\n",
       "        vertical-align: middle;\n",
       "    }\n",
       "\n",
       "    .dataframe tbody tr th {\n",
       "        vertical-align: top;\n",
       "    }\n",
       "\n",
       "    .dataframe thead th {\n",
       "        text-align: right;\n",
       "    }\n",
       "</style>\n",
       "<table border=\"1\" class=\"dataframe\">\n",
       "  <thead>\n",
       "    <tr style=\"text-align: right;\">\n",
       "      <th></th>\n",
       "      <th>Oil_Store</th>\n",
       "      <th>주소</th>\n",
       "      <th>가격</th>\n",
       "      <th>셀프</th>\n",
       "      <th>상표</th>\n",
       "      <th>구</th>\n",
       "    </tr>\n",
       "  </thead>\n",
       "  <tbody>\n",
       "    <tr>\n",
       "      <th>315</th>\n",
       "      <td>화곡역주유소</td>\n",
       "      <td>서울특별시 강서구  강서로 154 (화곡동)</td>\n",
       "      <td>1456.0</td>\n",
       "      <td>Y</td>\n",
       "      <td>알뜰주유소</td>\n",
       "      <td>강서구</td>\n",
       "    </tr>\n",
       "    <tr>\n",
       "      <th>316</th>\n",
       "      <td>뉴신정주유소</td>\n",
       "      <td>서울특별시 강서구 곰달래로39길 10 (화곡동)</td>\n",
       "      <td>1456.0</td>\n",
       "      <td>N</td>\n",
       "      <td>알뜰주유소</td>\n",
       "      <td>강서구</td>\n",
       "    </tr>\n",
       "    <tr>\n",
       "      <th>261</th>\n",
       "      <td>이케이에너지(주)번개주유소</td>\n",
       "      <td>서울 은평구 응암로 163</td>\n",
       "      <td>1467.0</td>\n",
       "      <td>Y</td>\n",
       "      <td>자가상표</td>\n",
       "      <td>은평구</td>\n",
       "    </tr>\n",
       "    <tr>\n",
       "      <th>178</th>\n",
       "      <td>양천구주유소</td>\n",
       "      <td>서울 양천구 국회대로 275 (목동)</td>\n",
       "      <td>1468.0</td>\n",
       "      <td>Y</td>\n",
       "      <td>알뜰주유소</td>\n",
       "      <td>양천구</td>\n",
       "    </tr>\n",
       "    <tr>\n",
       "      <th>125</th>\n",
       "      <td>원천주유소</td>\n",
       "      <td>서울 성북구 돌곶이로 142 (장위동)</td>\n",
       "      <td>1474.0</td>\n",
       "      <td>N</td>\n",
       "      <td>알뜰주유소</td>\n",
       "      <td>성북구</td>\n",
       "    </tr>\n",
       "    <tr>\n",
       "      <th>127</th>\n",
       "      <td>(주)삼표에너지 정릉주유소</td>\n",
       "      <td>서울 성북구 보국문로 35 (정릉동)</td>\n",
       "      <td>1475.0</td>\n",
       "      <td>Y</td>\n",
       "      <td>GS칼텍스</td>\n",
       "      <td>성북구</td>\n",
       "    </tr>\n",
       "    <tr>\n",
       "      <th>126</th>\n",
       "      <td>강산제2주유소</td>\n",
       "      <td>서울 성북구 보국문로 52</td>\n",
       "      <td>1475.0</td>\n",
       "      <td>Y</td>\n",
       "      <td>현대오일뱅크</td>\n",
       "      <td>성북구</td>\n",
       "    </tr>\n",
       "    <tr>\n",
       "      <th>262</th>\n",
       "      <td>타이거주유소</td>\n",
       "      <td>서울 은평구 수색로 188 (증산동)</td>\n",
       "      <td>1477.0</td>\n",
       "      <td>Y</td>\n",
       "      <td>SK에너지</td>\n",
       "      <td>은평구</td>\n",
       "    </tr>\n",
       "    <tr>\n",
       "      <th>263</th>\n",
       "      <td>(주)명연에너지 수색훼미리주유소</td>\n",
       "      <td>서울 은평구 수색로 236 (수색동)</td>\n",
       "      <td>1477.0</td>\n",
       "      <td>Y</td>\n",
       "      <td>현대오일뱅크</td>\n",
       "      <td>은평구</td>\n",
       "    </tr>\n",
       "    <tr>\n",
       "      <th>202</th>\n",
       "      <td>도림주유소</td>\n",
       "      <td>서울 영등포구 도림로 343 (도림동)</td>\n",
       "      <td>1478.0</td>\n",
       "      <td>Y</td>\n",
       "      <td>알뜰주유소</td>\n",
       "      <td>영등포구</td>\n",
       "    </tr>\n",
       "  </tbody>\n",
       "</table>\n",
       "</div>"
      ],
      "text/plain": [
       "             Oil_Store                          주소      가격 셀프      상표     구\n",
       "315             화곡역주유소    서울특별시 강서구  강서로 154 (화곡동)  1456.0  Y   알뜰주유소   강서구\n",
       "316             뉴신정주유소  서울특별시 강서구 곰달래로39길 10 (화곡동)  1456.0  N   알뜰주유소   강서구\n",
       "261     이케이에너지(주)번개주유소              서울 은평구 응암로 163  1467.0  Y    자가상표   은평구\n",
       "178             양천구주유소        서울 양천구 국회대로 275 (목동)  1468.0  Y   알뜰주유소   양천구\n",
       "125              원천주유소       서울 성북구 돌곶이로 142 (장위동)  1474.0  N   알뜰주유소   성북구\n",
       "127     (주)삼표에너지 정릉주유소        서울 성북구 보국문로 35 (정릉동)  1475.0  Y   GS칼텍스   성북구\n",
       "126            강산제2주유소              서울 성북구 보국문로 52  1475.0  Y  현대오일뱅크   성북구\n",
       "262             타이거주유소        서울 은평구 수색로 188 (증산동)  1477.0  Y   SK에너지   은평구\n",
       "263  (주)명연에너지 수색훼미리주유소        서울 은평구 수색로 236 (수색동)  1477.0  Y  현대오일뱅크   은평구\n",
       "202              도림주유소       서울 영등포구 도림로 343 (도림동)  1478.0  Y   알뜰주유소  영등포구"
      ]
     },
     "execution_count": 97,
     "metadata": {},
     "output_type": "execute_result"
    }
   ],
   "source": [
    "oil_price_bottom10= stations.sort_values(by='가격', ascending=True).head(10)\n",
    "oil_price_bottom10"
   ]
  },
  {
   "cell_type": "code",
   "execution_count": 98,
   "metadata": {},
   "outputs": [],
   "source": [
    "gmap_key='구글맵 api 키'\n",
    "gmaps= googlemaps.Client(key=gmap_key)"
   ]
  },
  {
   "cell_type": "code",
   "execution_count": 101,
   "metadata": {},
   "outputs": [
    {
     "data": {
      "application/vnd.jupyter.widget-view+json": {
       "model_id": "0b108527f3eb4e2e807ad48d3720155f",
       "version_major": 2,
       "version_minor": 0
      },
      "text/plain": [
       "HBox(children=(IntProgress(value=0, max=10), HTML(value='')))"
      ]
     },
     "metadata": {},
     "output_type": "display_data"
    },
    {
     "name": "stdout",
     "output_type": "stream",
     "text": [
      "\n"
     ]
    },
    {
     "data": {
      "text/html": [
       "<div>\n",
       "<style scoped>\n",
       "    .dataframe tbody tr th:only-of-type {\n",
       "        vertical-align: middle;\n",
       "    }\n",
       "\n",
       "    .dataframe tbody tr th {\n",
       "        vertical-align: top;\n",
       "    }\n",
       "\n",
       "    .dataframe thead th {\n",
       "        text-align: right;\n",
       "    }\n",
       "</style>\n",
       "<table border=\"1\" class=\"dataframe\">\n",
       "  <thead>\n",
       "    <tr style=\"text-align: right;\">\n",
       "      <th></th>\n",
       "      <th>Oil_Store</th>\n",
       "      <th>주소</th>\n",
       "      <th>가격</th>\n",
       "      <th>셀프</th>\n",
       "      <th>상표</th>\n",
       "      <th>구</th>\n",
       "      <th>lat</th>\n",
       "      <th>lng</th>\n",
       "    </tr>\n",
       "  </thead>\n",
       "  <tbody>\n",
       "    <tr>\n",
       "      <th>298</th>\n",
       "      <td>서남주유소</td>\n",
       "      <td>서울 중구 통일로 30</td>\n",
       "      <td>2294.0</td>\n",
       "      <td>N</td>\n",
       "      <td>SK에너지</td>\n",
       "      <td>중구</td>\n",
       "      <td>37.558348</td>\n",
       "      <td>126.972090</td>\n",
       "    </tr>\n",
       "    <tr>\n",
       "      <th>297</th>\n",
       "      <td>SC(주) 역전주유소</td>\n",
       "      <td>서울 중구 퇴계로 15</td>\n",
       "      <td>2256.0</td>\n",
       "      <td>N</td>\n",
       "      <td>GS칼텍스</td>\n",
       "      <td>중구</td>\n",
       "      <td>37.557001</td>\n",
       "      <td>126.974495</td>\n",
       "    </tr>\n",
       "    <tr>\n",
       "      <th>296</th>\n",
       "      <td>장충주유소</td>\n",
       "      <td>서울 중구 장충단로 202 (장충동1가)</td>\n",
       "      <td>2250.0</td>\n",
       "      <td>N</td>\n",
       "      <td>SK에너지</td>\n",
       "      <td>중구</td>\n",
       "      <td>37.562719</td>\n",
       "      <td>127.007010</td>\n",
       "    </tr>\n",
       "    <tr>\n",
       "      <th>490</th>\n",
       "      <td>뉴서울(강남)</td>\n",
       "      <td>서울 강남구 언주로 716 (논현동)</td>\n",
       "      <td>2218.0</td>\n",
       "      <td>N</td>\n",
       "      <td>SK에너지</td>\n",
       "      <td>강남구</td>\n",
       "      <td>37.517636</td>\n",
       "      <td>127.035756</td>\n",
       "    </tr>\n",
       "    <tr>\n",
       "      <th>295</th>\n",
       "      <td>필동주유소</td>\n",
       "      <td>서울 중구  퇴계로 196 (필동2가)</td>\n",
       "      <td>2189.0</td>\n",
       "      <td>N</td>\n",
       "      <td>GS칼텍스</td>\n",
       "      <td>중구</td>\n",
       "      <td>37.560850</td>\n",
       "      <td>126.993653</td>\n",
       "    </tr>\n",
       "    <tr>\n",
       "      <th>294</th>\n",
       "      <td>지에스칼텍스(주)초동주유소</td>\n",
       "      <td>서울 중구 마른내로 31</td>\n",
       "      <td>2159.0</td>\n",
       "      <td>N</td>\n",
       "      <td>GS칼텍스</td>\n",
       "      <td>중구</td>\n",
       "      <td>37.564944</td>\n",
       "      <td>126.991136</td>\n",
       "    </tr>\n",
       "    <tr>\n",
       "      <th>285</th>\n",
       "      <td>(주)대양씨앤씨 사직주유소</td>\n",
       "      <td>서울 종로구 사직로 65 (사직동)</td>\n",
       "      <td>2148.0</td>\n",
       "      <td>N</td>\n",
       "      <td>GS칼텍스</td>\n",
       "      <td>종로구</td>\n",
       "      <td>37.574464</td>\n",
       "      <td>126.966618</td>\n",
       "    </tr>\n",
       "    <tr>\n",
       "      <th>292</th>\n",
       "      <td>(주)중앙에너비스 퇴계로지점</td>\n",
       "      <td>서울 중구 퇴계로 228 (필동2가)</td>\n",
       "      <td>2148.0</td>\n",
       "      <td>N</td>\n",
       "      <td>SK에너지</td>\n",
       "      <td>중구</td>\n",
       "      <td>37.561648</td>\n",
       "      <td>126.997142</td>\n",
       "    </tr>\n",
       "    <tr>\n",
       "      <th>259</th>\n",
       "      <td>에너비스</td>\n",
       "      <td>서울 용산구 한남대로 82 (한남동)</td>\n",
       "      <td>2148.0</td>\n",
       "      <td>N</td>\n",
       "      <td>SK에너지</td>\n",
       "      <td>용산구</td>\n",
       "      <td>37.535952</td>\n",
       "      <td>127.006130</td>\n",
       "    </tr>\n",
       "    <tr>\n",
       "      <th>260</th>\n",
       "      <td>한남지점</td>\n",
       "      <td>서울 용산구 한남대로21길 4 (한남동)</td>\n",
       "      <td>2148.0</td>\n",
       "      <td>N</td>\n",
       "      <td>SK에너지</td>\n",
       "      <td>용산구</td>\n",
       "      <td>37.534657</td>\n",
       "      <td>127.006063</td>\n",
       "    </tr>\n",
       "  </tbody>\n",
       "</table>\n",
       "</div>"
      ],
      "text/plain": [
       "           Oil_Store                      주소      가격 셀프     상표    구  \\\n",
       "298            서남주유소            서울 중구 통일로 30  2294.0  N  SK에너지   중구   \n",
       "297      SC(주) 역전주유소            서울 중구 퇴계로 15  2256.0  N  GS칼텍스   중구   \n",
       "296            장충주유소  서울 중구 장충단로 202 (장충동1가)  2250.0  N  SK에너지   중구   \n",
       "490          뉴서울(강남)    서울 강남구 언주로 716 (논현동)  2218.0  N  SK에너지  강남구   \n",
       "295            필동주유소   서울 중구  퇴계로 196 (필동2가)  2189.0  N  GS칼텍스   중구   \n",
       "294   지에스칼텍스(주)초동주유소           서울 중구 마른내로 31  2159.0  N  GS칼텍스   중구   \n",
       "285   (주)대양씨앤씨 사직주유소     서울 종로구 사직로 65 (사직동)  2148.0  N  GS칼텍스  종로구   \n",
       "292  (주)중앙에너비스 퇴계로지점    서울 중구 퇴계로 228 (필동2가)  2148.0  N  SK에너지   중구   \n",
       "259             에너비스    서울 용산구 한남대로 82 (한남동)  2148.0  N  SK에너지  용산구   \n",
       "260             한남지점  서울 용산구 한남대로21길 4 (한남동)  2148.0  N  SK에너지  용산구   \n",
       "\n",
       "           lat         lng  \n",
       "298  37.558348  126.972090  \n",
       "297  37.557001  126.974495  \n",
       "296  37.562719  127.007010  \n",
       "490  37.517636  127.035756  \n",
       "295  37.560850  126.993653  \n",
       "294  37.564944  126.991136  \n",
       "285  37.574464  126.966618  \n",
       "292  37.561648  126.997142  \n",
       "259  37.535952  127.006130  \n",
       "260  37.534657  127.006063  "
      ]
     },
     "execution_count": 101,
     "metadata": {},
     "output_type": "execute_result"
    }
   ],
   "source": [
    "from tqdm import tqdm_notebook\n",
    "\n",
    "def get_lat_lng(df):\n",
    "    lat, lng=[],[]\n",
    "    for n in tqdm_notebook( df.index):\n",
    "        try:\n",
    "            tmp_add = str(df['주소'][n]).split('(')[0]\n",
    "            tmp_map= gmaps.geocode(tmp_add)\n",
    "\n",
    "            tmp_loc= tmp_map[0].get('geometry')\n",
    "            lat.append(tmp_loc['location']['lat'])\n",
    "            lng.append(tmp_loc['location']['lng'])\n",
    "\n",
    "        except:\n",
    "            lat.append(np.nan)\n",
    "            lng.append(np.nan)\n",
    "            print('Here is nan!')\n",
    "        \n",
    "    df['lat']=lat\n",
    "    df['lng']=lng\n",
    "    return df\n",
    "\n",
    "oil_price_top10=get_lat_lng(oil_price_top10)\n",
    "oil_price_top10"
   ]
  },
  {
   "cell_type": "code",
   "execution_count": 102,
   "metadata": {},
   "outputs": [
    {
     "data": {
      "application/vnd.jupyter.widget-view+json": {
       "model_id": "b1469d414b644a1480f854135a3bbfb1",
       "version_major": 2,
       "version_minor": 0
      },
      "text/plain": [
       "HBox(children=(IntProgress(value=0, max=10), HTML(value='')))"
      ]
     },
     "metadata": {},
     "output_type": "display_data"
    },
    {
     "name": "stdout",
     "output_type": "stream",
     "text": [
      "\n"
     ]
    },
    {
     "data": {
      "text/html": [
       "<div>\n",
       "<style scoped>\n",
       "    .dataframe tbody tr th:only-of-type {\n",
       "        vertical-align: middle;\n",
       "    }\n",
       "\n",
       "    .dataframe tbody tr th {\n",
       "        vertical-align: top;\n",
       "    }\n",
       "\n",
       "    .dataframe thead th {\n",
       "        text-align: right;\n",
       "    }\n",
       "</style>\n",
       "<table border=\"1\" class=\"dataframe\">\n",
       "  <thead>\n",
       "    <tr style=\"text-align: right;\">\n",
       "      <th></th>\n",
       "      <th>Oil_Store</th>\n",
       "      <th>주소</th>\n",
       "      <th>가격</th>\n",
       "      <th>셀프</th>\n",
       "      <th>상표</th>\n",
       "      <th>구</th>\n",
       "      <th>lat</th>\n",
       "      <th>lng</th>\n",
       "    </tr>\n",
       "  </thead>\n",
       "  <tbody>\n",
       "    <tr>\n",
       "      <th>315</th>\n",
       "      <td>화곡역주유소</td>\n",
       "      <td>서울특별시 강서구  강서로 154 (화곡동)</td>\n",
       "      <td>1456.0</td>\n",
       "      <td>Y</td>\n",
       "      <td>알뜰주유소</td>\n",
       "      <td>강서구</td>\n",
       "      <td>37.540657</td>\n",
       "      <td>126.841506</td>\n",
       "    </tr>\n",
       "    <tr>\n",
       "      <th>316</th>\n",
       "      <td>뉴신정주유소</td>\n",
       "      <td>서울특별시 강서구 곰달래로39길 10 (화곡동)</td>\n",
       "      <td>1456.0</td>\n",
       "      <td>N</td>\n",
       "      <td>알뜰주유소</td>\n",
       "      <td>강서구</td>\n",
       "      <td>37.531820</td>\n",
       "      <td>126.855564</td>\n",
       "    </tr>\n",
       "    <tr>\n",
       "      <th>261</th>\n",
       "      <td>이케이에너지(주)번개주유소</td>\n",
       "      <td>서울 은평구 응암로 163</td>\n",
       "      <td>1467.0</td>\n",
       "      <td>Y</td>\n",
       "      <td>자가상표</td>\n",
       "      <td>은평구</td>\n",
       "      <td>37.586704</td>\n",
       "      <td>126.915896</td>\n",
       "    </tr>\n",
       "    <tr>\n",
       "      <th>178</th>\n",
       "      <td>양천구주유소</td>\n",
       "      <td>서울 양천구 국회대로 275 (목동)</td>\n",
       "      <td>1468.0</td>\n",
       "      <td>Y</td>\n",
       "      <td>알뜰주유소</td>\n",
       "      <td>양천구</td>\n",
       "      <td>37.530283</td>\n",
       "      <td>126.865529</td>\n",
       "    </tr>\n",
       "    <tr>\n",
       "      <th>125</th>\n",
       "      <td>원천주유소</td>\n",
       "      <td>서울 성북구 돌곶이로 142 (장위동)</td>\n",
       "      <td>1474.0</td>\n",
       "      <td>N</td>\n",
       "      <td>알뜰주유소</td>\n",
       "      <td>성북구</td>\n",
       "      <td>37.614921</td>\n",
       "      <td>127.052752</td>\n",
       "    </tr>\n",
       "    <tr>\n",
       "      <th>127</th>\n",
       "      <td>(주)삼표에너지 정릉주유소</td>\n",
       "      <td>서울 성북구 보국문로 35 (정릉동)</td>\n",
       "      <td>1475.0</td>\n",
       "      <td>Y</td>\n",
       "      <td>GS칼텍스</td>\n",
       "      <td>성북구</td>\n",
       "      <td>37.607660</td>\n",
       "      <td>127.009858</td>\n",
       "    </tr>\n",
       "    <tr>\n",
       "      <th>126</th>\n",
       "      <td>강산제2주유소</td>\n",
       "      <td>서울 성북구 보국문로 52</td>\n",
       "      <td>1475.0</td>\n",
       "      <td>Y</td>\n",
       "      <td>현대오일뱅크</td>\n",
       "      <td>성북구</td>\n",
       "      <td>37.609163</td>\n",
       "      <td>127.010074</td>\n",
       "    </tr>\n",
       "    <tr>\n",
       "      <th>262</th>\n",
       "      <td>타이거주유소</td>\n",
       "      <td>서울 은평구 수색로 188 (증산동)</td>\n",
       "      <td>1477.0</td>\n",
       "      <td>Y</td>\n",
       "      <td>SK에너지</td>\n",
       "      <td>은평구</td>\n",
       "      <td>37.578424</td>\n",
       "      <td>126.902050</td>\n",
       "    </tr>\n",
       "    <tr>\n",
       "      <th>263</th>\n",
       "      <td>(주)명연에너지 수색훼미리주유소</td>\n",
       "      <td>서울 은평구 수색로 236 (수색동)</td>\n",
       "      <td>1477.0</td>\n",
       "      <td>Y</td>\n",
       "      <td>현대오일뱅크</td>\n",
       "      <td>은평구</td>\n",
       "      <td>37.581122</td>\n",
       "      <td>126.897774</td>\n",
       "    </tr>\n",
       "    <tr>\n",
       "      <th>202</th>\n",
       "      <td>도림주유소</td>\n",
       "      <td>서울 영등포구 도림로 343 (도림동)</td>\n",
       "      <td>1478.0</td>\n",
       "      <td>Y</td>\n",
       "      <td>알뜰주유소</td>\n",
       "      <td>영등포구</td>\n",
       "      <td>37.507656</td>\n",
       "      <td>126.900191</td>\n",
       "    </tr>\n",
       "  </tbody>\n",
       "</table>\n",
       "</div>"
      ],
      "text/plain": [
       "             Oil_Store                          주소      가격 셀프      상표     구  \\\n",
       "315             화곡역주유소    서울특별시 강서구  강서로 154 (화곡동)  1456.0  Y   알뜰주유소   강서구   \n",
       "316             뉴신정주유소  서울특별시 강서구 곰달래로39길 10 (화곡동)  1456.0  N   알뜰주유소   강서구   \n",
       "261     이케이에너지(주)번개주유소              서울 은평구 응암로 163  1467.0  Y    자가상표   은평구   \n",
       "178             양천구주유소        서울 양천구 국회대로 275 (목동)  1468.0  Y   알뜰주유소   양천구   \n",
       "125              원천주유소       서울 성북구 돌곶이로 142 (장위동)  1474.0  N   알뜰주유소   성북구   \n",
       "127     (주)삼표에너지 정릉주유소        서울 성북구 보국문로 35 (정릉동)  1475.0  Y   GS칼텍스   성북구   \n",
       "126            강산제2주유소              서울 성북구 보국문로 52  1475.0  Y  현대오일뱅크   성북구   \n",
       "262             타이거주유소        서울 은평구 수색로 188 (증산동)  1477.0  Y   SK에너지   은평구   \n",
       "263  (주)명연에너지 수색훼미리주유소        서울 은평구 수색로 236 (수색동)  1477.0  Y  현대오일뱅크   은평구   \n",
       "202              도림주유소       서울 영등포구 도림로 343 (도림동)  1478.0  Y   알뜰주유소  영등포구   \n",
       "\n",
       "           lat         lng  \n",
       "315  37.540657  126.841506  \n",
       "316  37.531820  126.855564  \n",
       "261  37.586704  126.915896  \n",
       "178  37.530283  126.865529  \n",
       "125  37.614921  127.052752  \n",
       "127  37.607660  127.009858  \n",
       "126  37.609163  127.010074  \n",
       "262  37.578424  126.902050  \n",
       "263  37.581122  126.897774  \n",
       "202  37.507656  126.900191  "
      ]
     },
     "execution_count": 102,
     "metadata": {},
     "output_type": "execute_result"
    }
   ],
   "source": [
    "oil_price_bottom10=get_lat_lng(oil_price_bottom10)\n",
    "oil_price_bottom10"
   ]
  },
  {
   "cell_type": "code",
   "execution_count": 104,
   "metadata": {},
   "outputs": [
    {
     "data": {
      "text/html": [
       "<div style=\"width:100%;\"><div style=\"position:relative;width:100%;height:0;padding-bottom:60%;\"><iframe src=\"data:text/html;charset=utf-8;base64,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\" style=\"position:absolute;width:100%;height:100%;left:0;top:0;border:none !important;\" allowfullscreen webkitallowfullscreen mozallowfullscreen></iframe></div></div>"
      ],
      "text/plain": [
       "<folium.folium.Map at 0x24cf0caf5f8>"
      ]
     },
     "execution_count": 104,
     "metadata": {},
     "output_type": "execute_result"
    }
   ],
   "source": [
    "def draw_map(df, map, color):\n",
    "    for n in df.index:\n",
    "        if pd.notnull(df['lat'][n]):\n",
    "            folium.CircleMarker([df['lat'][n], df['lng'][n]],\n",
    "                            radius=15, color=color, fill_color=color).add_to(map)\n",
    "\n",
    "            \n",
    "map= folium.Map(location=[37.5202, 126.975], zoom_start=10.5)\n",
    "draw_map(oil_price_top10, map,'#CD3181' )\n",
    "draw_map(oil_price_bottom10, map,'#3186cc' )\n",
    "\n",
    "map"
   ]
  },
  {
   "cell_type": "code",
   "execution_count": null,
   "metadata": {},
   "outputs": [],
   "source": []
  }
 ],
 "metadata": {
  "kernelspec": {
   "display_name": "Python 3",
   "language": "python",
   "name": "python3"
  },
  "language_info": {
   "codemirror_mode": {
    "name": "ipython",
    "version": 3
   },
   "file_extension": ".py",
   "mimetype": "text/x-python",
   "name": "python",
   "nbconvert_exporter": "python",
   "pygments_lexer": "ipython3",
   "version": "3.7.0"
  }
 },
 "nbformat": 4,
 "nbformat_minor": 2
}
